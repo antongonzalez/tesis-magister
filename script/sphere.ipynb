{
 "cells": [
  {
   "cell_type": "code",
   "execution_count": 1,
   "metadata": {
    "collapsed": false
   },
   "outputs": [],
   "source": [
    "from GRpy.all import *\n",
    "init_printing(use_unicode=True)"
   ]
  },
  {
   "cell_type": "markdown",
   "metadata": {},
   "source": [
    "# Sphere:"
   ]
  },
  {
   "cell_type": "markdown",
   "metadata": {},
   "source": [
    "Metric:\n",
    "$$\n",
    "g_{ab}(\\theta, \\phi)=\n",
    "\\begin{bmatrix}\n",
    "a^2 & 0\\\\\n",
    " 0 & a^2 \\sin^2(\\theta)\n",
    "\\end{bmatrix},\n",
    "$$\n",
    "with $a$ the radius of the sphere."
   ]
  },
  {
   "cell_type": "markdown",
   "metadata": {},
   "source": [
    "First we define the symbols for the coordinates $x^a=(\\theta,\\phi)$ and the constants:"
   ]
  },
  {
   "cell_type": "code",
   "execution_count": 2,
   "metadata": {
    "collapsed": false
   },
   "outputs": [],
   "source": [
    "a, theta, phi = symbols('a, theta, varphi', real=True)"
   ]
  },
  {
   "cell_type": "markdown",
   "metadata": {},
   "source": [
    "Now we define the variable `gab` as a Metric depending on the coordinates, and asign the components:"
   ]
  },
  {
   "cell_type": "code",
   "execution_count": 3,
   "metadata": {
    "collapsed": true
   },
   "outputs": [],
   "source": [
    "gab = Metric((theta, phi))\n",
    "gab[-0,-0] = a**2\n",
    "gab[-0,-1] = 0\n",
    "gab[-1,-0] = 0\n",
    "gab[-1,-1] = (a**2)*(sin(theta))**2"
   ]
  },
  {
   "cell_type": "markdown",
   "metadata": {},
   "source": [
    "The object `gab` is of type `GRpy.Tensor.Metric`, and has several associated methods:"
   ]
  },
  {
   "cell_type": "code",
   "execution_count": 4,
   "metadata": {
    "collapsed": false
   },
   "outputs": [
    {
     "data": {
      "text/plain": [
       "GRpy.Tensor.Metric"
      ]
     },
     "execution_count": 4,
     "metadata": {},
     "output_type": "execute_result"
    }
   ],
   "source": [
    "type(gab)"
   ]
  },
  {
   "cell_type": "code",
   "execution_count": 5,
   "metadata": {
    "collapsed": false
   },
   "outputs": [
    {
     "data": {
      "image/png": "[encoded data removed]",
      "text/latex": [
       "$$\\left \\{ \\left ( -1, \\quad -1\\right ) : a^{2} \\sin^{2}{\\left (\\theta \\right )}, \\quad \\left ( -1, \\quad 0\\right ) : 0, \\quad \\left ( 0, \\quad -1\\right ) : 0, \\quad \\left ( 0, \\quad 0\\right ) : a^{2}\\right \\}$$"
      ],
      "text/plain": [
       "⎧           2    2                                      2⎫\n",
       "⎨(-1, -1): a ⋅sin (θ), (-1, 0): 0, (0, -1): 0, (0, 0): a ⎬\n",
       "⎩                                                        ⎭"
      ]
     },
     "execution_count": 5,
     "metadata": {},
     "output_type": "execute_result"
    }
   ],
   "source": [
    "gab.components"
   ]
  },
  {
   "cell_type": "code",
   "execution_count": 6,
   "metadata": {
    "collapsed": false
   },
   "outputs": [
    {
     "data": {
      "image/png": "[encoded data removed]",
      "text/latex": [
       "$$\\left [ \\left ( \\left ( -1, \\quad -1\\right ), \\quad a^{2} \\sin^{2}{\\left (\\theta \\right )}\\right ), \\quad \\left ( \\left ( 0, \\quad 0\\right ), \\quad a^{2}\\right )\\right ]$$"
      ],
      "text/plain": [
       "⎡⎛           2    2   ⎞  ⎛         2⎞⎤\n",
       "⎣⎝(-1, -1), a ⋅sin (θ)⎠, ⎝(0, 0), a ⎠⎦"
      ]
     },
     "execution_count": 6,
     "metadata": {},
     "output_type": "execute_result"
    }
   ],
   "source": [
    "gab.getNonZero()"
   ]
  },
  {
   "cell_type": "code",
   "execution_count": 7,
   "metadata": {
    "collapsed": false
   },
   "outputs": [
    {
     "data": {
      "image/png": "[encoded data removed]",
      "text/latex": [
       "$$g_{ab}$$"
      ],
      "text/plain": [
       "g_{ab}"
      ]
     },
     "execution_count": 7,
     "metadata": {},
     "output_type": "execute_result"
    }
   ],
   "source": [
    "gab.symbol"
   ]
  },
  {
   "cell_type": "code",
   "execution_count": 8,
   "metadata": {
    "collapsed": false
   },
   "outputs": [
    {
     "name": "stdout",
     "output_type": "stream",
     "text": [
      "======================================================================\n",
      "The non-zero components of g_{ab} are:\n",
      "(-1, -1) : a**2*sin(theta)**2\n",
      "(0, 0) : a**2\n",
      "======================================================================\n"
     ]
    }
   ],
   "source": [
    "gab.__str__()"
   ]
  },
  {
   "cell_type": "markdown",
   "metadata": {},
   "source": [
    "The inverse is computed using `.invert()`:"
   ]
  },
  {
   "cell_type": "code",
   "execution_count": 9,
   "metadata": {
    "collapsed": false
   },
   "outputs": [],
   "source": [
    "ginv = gab.invert()"
   ]
  },
  {
   "cell_type": "code",
   "execution_count": 10,
   "metadata": {
    "collapsed": false
   },
   "outputs": [
    {
     "data": {
      "image/png": "[encoded data removed]",
      "text/latex": [
       "$$\\left [ \\left ( \\left ( 0, \\quad 0\\right ), \\quad \\frac{1}{a^{2}}\\right ), \\quad \\left ( \\left ( 1, \\quad 1\\right ), \\quad \\frac{1}{a^{2} \\sin^{2}{\\left (\\theta \\right )}}\\right )\\right ]$$"
      ],
      "text/plain": [
       "⎡⎛        1 ⎞  ⎛            1     ⎞⎤\n",
       "⎢⎜(0, 0), ──⎟, ⎜(1, 1), ──────────⎟⎥\n",
       "⎢⎜         2⎟  ⎜         2    2   ⎟⎥\n",
       "⎣⎝        a ⎠  ⎝        a ⋅sin (θ)⎠⎦"
      ]
     },
     "execution_count": 10,
     "metadata": {},
     "output_type": "execute_result"
    }
   ],
   "source": [
    "ginv.getNonZero()"
   ]
  },
  {
   "cell_type": "code",
   "execution_count": 11,
   "metadata": {
    "collapsed": false
   },
   "outputs": [
    {
     "name": "stdout",
     "output_type": "stream",
     "text": [
      "======================================================================\n",
      "The non-zero components of g_inv are:\n",
      "(0, 0) : a**(-2)\n",
      "(1, 1) : 1/(a**2*sin(theta)**2)\n",
      "======================================================================\n"
     ]
    }
   ],
   "source": [
    "ginv.__str__()"
   ]
  },
  {
   "cell_type": "markdown",
   "metadata": {},
   "source": [
    "The method `.invert()` computes the inverse:"
   ]
  },
  {
   "cell_type": "markdown",
   "metadata": {},
   "source": [
    "The Christoffel symbols of the second kind $\\{^a_{bc}\\}$ are computed using the function `Christoffel`:"
   ]
  },
  {
   "cell_type": "code",
   "execution_count": 12,
   "metadata": {
    "collapsed": false
   },
   "outputs": [],
   "source": [
    "chris = Christoffel(gab)"
   ]
  },
  {
   "cell_type": "code",
   "execution_count": 13,
   "metadata": {
    "collapsed": false
   },
   "outputs": [
    {
     "data": {
      "image/png": "[encoded data removed]",
      "text/latex": [
       "$$\\Gamma^{a}_{\\ \\ bc}$$"
      ],
      "text/plain": [
       "\\Gamma_{\\ \\ bc}__{a}"
      ]
     },
     "execution_count": 13,
     "metadata": {},
     "output_type": "execute_result"
    }
   ],
   "source": [
    "chris.symbol"
   ]
  },
  {
   "cell_type": "code",
   "execution_count": 14,
   "metadata": {
    "collapsed": false
   },
   "outputs": [
    {
     "data": {
      "image/png": "[encoded data removed]",
      "text/latex": [
       "$$\\left [ \\left ( \\left ( 0, \\quad -1, \\quad -1\\right ), \\quad - \\sin{\\left (\\theta \\right )} \\cos{\\left (\\theta \\right )}\\right ), \\quad \\left ( \\left ( 1, \\quad -1, \\quad 0\\right ), \\quad \\frac{\\cos{\\left (\\theta \\right )}}{\\sin{\\left (\\theta \\right )}}\\right ), \\quad \\left ( \\left ( 1, \\quad 0, \\quad -1\\right ), \\quad \\frac{\\cos{\\left (\\theta \\right )}}{\\sin{\\left (\\theta \\right )}}\\right )\\right ]$$"
      ],
      "text/plain": [
       "⎡                               ⎛            cos(θ)⎞  ⎛            cos(θ)⎞⎤\n",
       "⎢((0, -1, -1), -sin(θ)⋅cos(θ)), ⎜(1, -1, 0), ──────⎟, ⎜(1, 0, -1), ──────⎟⎥\n",
       "⎣                               ⎝            sin(θ)⎠  ⎝            sin(θ)⎠⎦"
      ]
     },
     "execution_count": 14,
     "metadata": {},
     "output_type": "execute_result"
    }
   ],
   "source": [
    "chris.getNonZero()"
   ]
  },
  {
   "cell_type": "markdown",
   "metadata": {},
   "source": [
    "If we want access to a particular component, we can write:"
   ]
  },
  {
   "cell_type": "code",
   "execution_count": 15,
   "metadata": {
    "collapsed": false
   },
   "outputs": [
    {
     "data": {
      "image/png": "[encoded data removed]",
      "text/latex": [
       "$$- \\sin{\\left (\\theta \\right )} \\cos{\\left (\\theta \\right )}$$"
      ],
      "text/plain": [
       "-sin(θ)⋅cos(θ)"
      ]
     },
     "execution_count": 15,
     "metadata": {},
     "output_type": "execute_result"
    }
   ],
   "source": [
    "chris.components[(0,-1,-1)]"
   ]
  },
  {
   "cell_type": "markdown",
   "metadata": {},
   "source": [
    "Similarly, the Riemann tensor can be computed from the Christoffel symbols:"
   ]
  },
  {
   "cell_type": "code",
   "execution_count": 16,
   "metadata": {
    "collapsed": false
   },
   "outputs": [],
   "source": [
    "riem = Riemann(chris)"
   ]
  },
  {
   "cell_type": "code",
   "execution_count": 17,
   "metadata": {
    "collapsed": false
   },
   "outputs": [
    {
     "data": {
      "image/png": "[encoded data removed]",
      "text/latex": [
       "$$R_{abcd}$$"
      ],
      "text/plain": [
       "R_{abcd}"
      ]
     },
     "execution_count": 17,
     "metadata": {},
     "output_type": "execute_result"
    }
   ],
   "source": [
    "riem.symbol"
   ]
  },
  {
   "cell_type": "code",
   "execution_count": 18,
   "metadata": {
    "collapsed": false
   },
   "outputs": [
    {
     "data": {
      "image/png": "[encoded data removed]",
      "text/latex": [
       "$$\\left [ \\left ( \\left ( -1, \\quad 0, \\quad -1, \\quad 0\\right ), \\quad a^{2} \\sin^{2}{\\left (\\theta \\right )}\\right ), \\quad \\left ( \\left ( -1, \\quad 0, \\quad 0, \\quad -1\\right ), \\quad - a^{2} \\sin^{2}{\\left (\\theta \\right )}\\right ), \\quad \\left ( \\left ( 0, \\quad -1, \\quad -1, \\quad 0\\right ), \\quad - a^{2} \\sin^{2}{\\left (\\theta \\right )}\\right ), \\quad \\left ( \\left ( 0, \\quad -1, \\quad 0, \\quad -1\\right ), \\quad a^{2} \\sin^{2}{\\left (\\theta \\right )}\\right )\\right ]$$"
      ],
      "text/plain": [
       "⎡⎛                 2    2   ⎞  ⎛                  2    2   ⎞  ⎛               \n",
       "⎣⎝(-1, 0, -1, 0), a ⋅sin (θ)⎠, ⎝(-1, 0, 0, -1), -a ⋅sin (θ)⎠, ⎝(0, -1, -1, 0),\n",
       "\n",
       "   2    2   ⎞  ⎛                 2    2   ⎞⎤\n",
       " -a ⋅sin (θ)⎠, ⎝(0, -1, 0, -1), a ⋅sin (θ)⎠⎦"
      ]
     },
     "execution_count": 18,
     "metadata": {},
     "output_type": "execute_result"
    }
   ],
   "source": [
    "riem.getNonZero()"
   ]
  },
  {
   "cell_type": "markdown",
   "metadata": {},
   "source": [
    "By default, `Riemann()` computes the covariant components of the curvature. The completely contravariant components $R^{abcd}$ can then be computed using the method `.Riemann_cont`:"
   ]
  },
  {
   "cell_type": "code",
   "execution_count": 81,
   "metadata": {
    "collapsed": false
   },
   "outputs": [
    {
     "data": {
      "image/png": "[encoded data removed]",
      "text/latex": [
       "$$R^{abcd}$$"
      ],
      "text/plain": [
       "R__{abcd}"
      ]
     },
     "execution_count": 81,
     "metadata": {},
     "output_type": "execute_result"
    }
   ],
   "source": [
    "riem.Riemann_cont.symbol"
   ]
  },
  {
   "cell_type": "code",
   "execution_count": 20,
   "metadata": {
    "collapsed": false
   },
   "outputs": [
    {
     "data": {
      "image/png": "[encoded data removed]",
      "text/latex": [
       "$$\\left [ \\left ( \\left ( 0, \\quad 1, \\quad 0, \\quad 1\\right ), \\quad \\frac{1}{a^{6} \\sin^{2}{\\left (\\theta \\right )}}\\right ), \\quad \\left ( \\left ( 0, \\quad 1, \\quad 1, \\quad 0\\right ), \\quad - \\frac{1}{a^{6} \\sin^{2}{\\left (\\theta \\right )}}\\right ), \\quad \\left ( \\left ( 1, \\quad 0, \\quad 0, \\quad 1\\right ), \\quad - \\frac{1}{a^{6} \\sin^{2}{\\left (\\theta \\right )}}\\right ), \\quad \\left ( \\left ( 1, \\quad 0, \\quad 1, \\quad 0\\right ), \\quad \\frac{1}{a^{6} \\sin^{2}{\\left (\\theta \\right )}}\\right )\\right ]$$"
      ],
      "text/plain": [
       "⎡⎛                  1     ⎞  ⎛                 -1     ⎞  ⎛                 -1 \n",
       "⎢⎜(0, 1, 0, 1), ──────────⎟, ⎜(0, 1, 1, 0), ──────────⎟, ⎜(1, 0, 0, 1), ──────\n",
       "⎢⎜               6    2   ⎟  ⎜               6    2   ⎟  ⎜               6    \n",
       "⎣⎝              a ⋅sin (θ)⎠  ⎝              a ⋅sin (θ)⎠  ⎝              a ⋅sin\n",
       "\n",
       "    ⎞  ⎛                  1     ⎞⎤\n",
       "────⎟, ⎜(1, 0, 1, 0), ──────────⎟⎥\n",
       "2   ⎟  ⎜               6    2   ⎟⎥\n",
       " (θ)⎠  ⎝              a ⋅sin (θ)⎠⎦"
      ]
     },
     "execution_count": 20,
     "metadata": {},
     "output_type": "execute_result"
    }
   ],
   "source": [
    "riem.Riemann_cont.getNonZero()"
   ]
  },
  {
   "cell_type": "markdown",
   "metadata": {},
   "source": [
    "Similarly, `.Riemann_par` computes $R^{ab}_{\\ \\ cd}$:"
   ]
  },
  {
   "cell_type": "code",
   "execution_count": 21,
   "metadata": {
    "collapsed": false
   },
   "outputs": [
    {
     "data": {
      "image/png": "[encoded data removed]",
      "text/latex": [
       "$$R^{ab}_{\\ \\ \\ cd}$$"
      ],
      "text/plain": [
       "R_{\\ \\ \\ cd}__{ab}"
      ]
     },
     "execution_count": 21,
     "metadata": {},
     "output_type": "execute_result"
    }
   ],
   "source": [
    "riem.Riemann_par.symbol"
   ]
  },
  {
   "cell_type": "code",
   "execution_count": 22,
   "metadata": {
    "collapsed": false
   },
   "outputs": [
    {
     "data": {
      "image/png": "[encoded data removed]",
      "text/latex": [
       "$$\\left [ \\left ( \\left ( 0, \\quad 1, \\quad -1, \\quad 0\\right ), \\quad - \\frac{1}{a^{2}}\\right ), \\quad \\left ( \\left ( 0, \\quad 1, \\quad 0, \\quad -1\\right ), \\quad \\frac{1}{a^{2}}\\right ), \\quad \\left ( \\left ( 1, \\quad 0, \\quad -1, \\quad 0\\right ), \\quad \\frac{1}{a^{2}}\\right ), \\quad \\left ( \\left ( 1, \\quad 0, \\quad 0, \\quad -1\\right ), \\quad - \\frac{1}{a^{2}}\\right )\\right ]$$"
      ],
      "text/plain": [
       "⎡⎛               -1 ⎞  ⎛               1 ⎞  ⎛               1 ⎞  ⎛            \n",
       "⎢⎜(0, 1, -1, 0), ───⎟, ⎜(0, 1, 0, -1), ──⎟, ⎜(1, 0, -1, 0), ──⎟, ⎜(1, 0, 0, -1\n",
       "⎢⎜                 2⎟  ⎜                2⎟  ⎜                2⎟  ⎜            \n",
       "⎣⎝                a ⎠  ⎝               a ⎠  ⎝               a ⎠  ⎝            \n",
       "\n",
       "   -1 ⎞⎤\n",
       "), ───⎟⎥\n",
       "     2⎟⎥\n",
       "    a ⎠⎦"
      ]
     },
     "execution_count": 22,
     "metadata": {},
     "output_type": "execute_result"
    }
   ],
   "source": [
    "riem.Riemann_par.getNonZero()"
   ]
  },
  {
   "cell_type": "markdown",
   "metadata": {},
   "source": [
    "The Ricci tensor of a given curvature tensor is computed using `Ricci()`, with the curvature tensor as argument:"
   ]
  },
  {
   "cell_type": "code",
   "execution_count": 23,
   "metadata": {
    "collapsed": false
   },
   "outputs": [
    {
     "data": {
      "image/png": "[encoded data removed]",
      "text/latex": [
       "$$R_{ab}$$"
      ],
      "text/plain": [
       "R_{ab}"
      ]
     },
     "execution_count": 23,
     "metadata": {},
     "output_type": "execute_result"
    }
   ],
   "source": [
    "ricc = Ricci(riem)\n",
    "ricc.symbol"
   ]
  },
  {
   "cell_type": "code",
   "execution_count": 24,
   "metadata": {
    "collapsed": false
   },
   "outputs": [
    {
     "data": {
      "image/png": "[encoded data removed]",
      "text/latex": [
       "$$\\left [ \\left ( \\left ( -1, \\quad -1\\right ), \\quad \\sin^{2}{\\left (\\theta \\right )}\\right ), \\quad \\left ( \\left ( 0, \\quad 0\\right ), \\quad 1\\right )\\right ]$$"
      ],
      "text/plain": [
       "⎡⎛             2   ⎞             ⎤\n",
       "⎣⎝(-1, -1), sin (θ)⎠, ((0, 0), 1)⎦"
      ]
     },
     "execution_count": 24,
     "metadata": {},
     "output_type": "execute_result"
    }
   ],
   "source": [
    "ricc.getNonZero()"
   ]
  },
  {
   "cell_type": "markdown",
   "metadata": {},
   "source": [
    "The curvature scalar $R=g^{ab}R_{ab}$ can be computed using `Scalar(Metric, Ricci, Riemann)`:"
   ]
  },
  {
   "cell_type": "code",
   "execution_count": 25,
   "metadata": {
    "collapsed": false
   },
   "outputs": [
    {
     "data": {
      "image/png": "[encoded data removed]",
      "text/latex": [
       "$$\\frac{2}{a^{2}}$$"
      ],
      "text/plain": [
       "2 \n",
       "──\n",
       " 2\n",
       "a "
      ]
     },
     "execution_count": 25,
     "metadata": {},
     "output_type": "execute_result"
    }
   ],
   "source": [
    "scurv = Scurv(gab,ricc)\n",
    "scurv"
   ]
  },
  {
   "cell_type": "markdown",
   "metadata": {},
   "source": [
    "The Einstein tensor $G_{ab}=R_{ab}-g_{ab}R/2$ can be computed using `Einstein(metric, Ricci)`:"
   ]
  },
  {
   "cell_type": "code",
   "execution_count": 26,
   "metadata": {
    "collapsed": false
   },
   "outputs": [
    {
     "data": {
      "image/png": "[encoded data removed]",
      "text/latex": [
       "$$\\left [ \\right ]$$"
      ],
      "text/plain": [
       "[]"
      ]
     },
     "execution_count": 26,
     "metadata": {},
     "output_type": "execute_result"
    }
   ],
   "source": [
    "einstein = Einstein(gab, ricc)\n",
    "einstein.getNonZero()"
   ]
  },
  {
   "cell_type": "markdown",
   "metadata": {},
   "source": [
    "# Verifying:"
   ]
  },
  {
   "cell_type": "markdown",
   "metadata": {},
   "source": [
    "Consider the following property of spaces with constant curvature:"
   ]
  },
  {
   "cell_type": "markdown",
   "metadata": {},
   "source": [
    "$$ R_{abcd}=\\alpha (g_{ad}g_{bc}-g_{bd}g_{ac}),$$\n",
    "$$ R_{ab}= \\alpha(d-1)g_{ab},$$\n",
    "\n",
    "Then \n",
    "$$R = \\alpha d(d-1)$$\n",
    "\n",
    "In our example $d=2$ and $R=2/a^2$, and therefore $\\alpha =1/a^2$."
   ]
  },
  {
   "cell_type": "code",
   "execution_count": 27,
   "metadata": {
    "collapsed": false
   },
   "outputs": [],
   "source": [
    "alpha = 1/(a**2)"
   ]
  },
  {
   "cell_type": "code",
   "execution_count": 28,
   "metadata": {
    "collapsed": false,
    "scrolled": true
   },
   "outputs": [
    {
     "name": "stdout",
     "output_type": "stream",
     "text": [
      "(0,0,0,0) True\n",
      "(0,0,0,1) True\n",
      "(0,0,1,0) True\n",
      "(0,0,1,1) True\n",
      "(0,1,0,0) True\n",
      "(0,1,0,1) True\n",
      "(0,1,1,0) True\n",
      "(0,1,1,1) True\n",
      "(1,0,0,0) True\n",
      "(1,0,0,1) True\n",
      "(1,0,1,0) True\n",
      "(1,0,1,1) True\n",
      "(1,1,0,0) True\n",
      "(1,1,0,1) True\n",
      "(1,1,1,0) True\n",
      "(1,1,1,1) True\n"
     ]
    }
   ],
   "source": [
    "for i in range(2):\n",
    "    for j in range(2):\n",
    "        for m in range(2):\n",
    "            for l in range(2):\n",
    "                cosa = gab.components[-i,-m]*gab.components[-j,-l]-gab.components[-j,-m]*gab.components[-i,-l]\n",
    "                print '(%d,%d,%d,%d)'%(i,j,m,l), cancel(riem.components[-i,-j,-m,-l])==simplify(alpha*cosa)"
   ]
  },
  {
   "cell_type": "code",
   "execution_count": 29,
   "metadata": {
    "collapsed": false
   },
   "outputs": [
    {
     "name": "stdout",
     "output_type": "stream",
     "text": [
      "(0,0) True\n",
      "(0,1) True\n",
      "(1,0) True\n",
      "(1,1) True\n"
     ]
    }
   ],
   "source": [
    "for i in range(2):\n",
    "    for j in range(2):\n",
    "        print '(%d,%d)'%(i,j), cancel(gab.components[-i,-j])==simplify(ricc.components[-i,-j]/(alpha))"
   ]
  },
  {
   "cell_type": "markdown",
   "metadata": {},
   "source": [
    "# Killing Equation"
   ]
  },
  {
   "cell_type": "markdown",
   "metadata": {},
   "source": [
    "Now we will compute the Killing equation for the vector field $\\xi^a$, given by\n",
    "$$\n",
    "\\xi^c\\partial_c g_{ab}+g_{ac}\\partial_b\\xi^c+g_{bc}\\partial_a\\xi^c=0\n",
    "$$"
   ]
  },
  {
   "cell_type": "code",
   "execution_count": 30,
   "metadata": {
    "collapsed": true
   },
   "outputs": [],
   "source": [
    "xi0 = Function('xi^0')(theta,phi)\n",
    "xi1 = Function('xi^1')(theta,phi)"
   ]
  },
  {
   "cell_type": "code",
   "execution_count": 31,
   "metadata": {
    "collapsed": false
   },
   "outputs": [],
   "source": [
    "xi = XI((theta,phi))\n",
    "xi[0] = xi0\n",
    "xi[1] = xi1"
   ]
  },
  {
   "cell_type": "code",
   "execution_count": 32,
   "metadata": {
    "collapsed": false
   },
   "outputs": [
    {
     "data": {
      "image/png": "[encoded data removed]",
      "text/latex": [
       "$$K_{ab}$$"
      ],
      "text/plain": [
       "K_{ab}"
      ]
     },
     "execution_count": 32,
     "metadata": {},
     "output_type": "execute_result"
    }
   ],
   "source": [
    "K = Killing_Equation(xi,gab)\n",
    "K.symbol"
   ]
  },
  {
   "cell_type": "code",
   "execution_count": 33,
   "metadata": {
    "collapsed": false
   },
   "outputs": [
    {
     "data": {
      "image/png": "[encoded data removed]",
      "text/latex": [
       "$$\\left [ \\left ( \\left ( -1, \\quad -1\\right ), \\quad a^{2} \\left(\\xi^{0}{\\left (\\theta,\\varphi \\right )} \\sin{\\left (2 \\theta \\right )} - \\cos{\\left (2 \\theta \\right )} \\frac{\\partial}{\\partial \\varphi} \\xi^{1}{\\left (\\theta,\\varphi \\right )} + \\frac{\\partial}{\\partial \\varphi} \\xi^{1}{\\left (\\theta,\\varphi \\right )}\\right)\\right ), \\quad \\left ( \\left ( -1, \\quad 0\\right ), \\quad a^{2} \\left(\\sin^{2}{\\left (\\theta \\right )} \\frac{\\partial}{\\partial \\theta} \\xi^{1}{\\left (\\theta,\\varphi \\right )} + \\frac{\\partial}{\\partial \\varphi} \\xi^{0}{\\left (\\theta,\\varphi \\right )}\\right)\\right ), \\quad \\left ( \\left ( 0, \\quad -1\\right ), \\quad a^{2} \\left(\\sin^{2}{\\left (\\theta \\right )} \\frac{\\partial}{\\partial \\theta} \\xi^{1}{\\left (\\theta,\\varphi \\right )} + \\frac{\\partial}{\\partial \\varphi} \\xi^{0}{\\left (\\theta,\\varphi \\right )}\\right)\\right ), \\quad \\left ( \\left ( 0, \\quad 0\\right ), \\quad 2 a^{2} \\frac{\\partial}{\\partial \\theta} \\xi^{0}{\\left (\\theta,\\varphi \\right )}\\right )\\right ]$$"
      ],
      "text/plain": [
       "⎡⎛           2 ⎛                                     ∂                        \n",
       "⎢⎜(-1, -1), a ⋅⎜ξ⁰(θ, varphi)⋅sin(2⋅θ) - cos(2⋅θ)⋅───────(ξ¹(θ, varphi)) + ───\n",
       "⎣⎝             ⎝                                  ∂varphi                  ∂va\n",
       "\n",
       "∂                  ⎞⎞  ⎛          2 ⎛   2    ∂                      ∂         \n",
       "────(ξ¹(θ, varphi))⎟⎟, ⎜(-1, 0), a ⋅⎜sin (θ)⋅──(ξ¹(θ, varphi)) + ───────(ξ⁰(θ,\n",
       "rphi               ⎠⎠  ⎝            ⎝        ∂θ                  ∂varphi      \n",
       "\n",
       "         ⎞⎞  ⎛          2 ⎛   2    ∂                      ∂                  ⎞\n",
       " varphi))⎟⎟, ⎜(0, -1), a ⋅⎜sin (θ)⋅──(ξ¹(θ, varphi)) + ───────(ξ⁰(θ, varphi))⎟\n",
       "         ⎠⎠  ⎝            ⎝        ∂θ                  ∂varphi               ⎠\n",
       "\n",
       "⎞  ⎛           2 ∂                ⎞⎤\n",
       "⎟, ⎜(0, 0), 2⋅a ⋅──(ξ⁰(θ, varphi))⎟⎥\n",
       "⎠  ⎝             ∂θ               ⎠⎦"
      ]
     },
     "execution_count": 33,
     "metadata": {},
     "output_type": "execute_result"
    }
   ],
   "source": [
    "K.getNonZero()"
   ]
  },
  {
   "cell_type": "markdown",
   "metadata": {},
   "source": [
    "We asign the independent components of the equation to the variables e1, e2 and e3:"
   ]
  },
  {
   "cell_type": "code",
   "execution_count": 34,
   "metadata": {
    "collapsed": false
   },
   "outputs": [],
   "source": [
    "e1=K.components[(-1,-1)]\n",
    "e2=K.components[(-1,0)]\n",
    "e3=K.components[(0,0)]"
   ]
  },
  {
   "cell_type": "code",
   "execution_count": 35,
   "metadata": {
    "collapsed": false
   },
   "outputs": [
    {
     "data": {
      "image/png": "[encoded data removed]",
      "text/latex": [
       "$$2 a^{2} \\frac{\\partial}{\\partial \\theta} \\xi^{0}{\\left (\\theta,\\varphi \\right )}$$"
      ],
      "text/plain": [
       "   2 ∂                \n",
       "2⋅a ⋅──(ξ⁰(θ, varphi))\n",
       "     ∂θ               "
      ]
     },
     "execution_count": 35,
     "metadata": {},
     "output_type": "execute_result"
    }
   ],
   "source": [
    "e3"
   ]
  },
  {
   "cell_type": "markdown",
   "metadata": {},
   "source": [
    "The 3rd equation has a solution $\\xi^0=f(\\varphi)$. We sunstitute this solution in the other equations:"
   ]
  },
  {
   "cell_type": "code",
   "execution_count": 36,
   "metadata": {
    "collapsed": false
   },
   "outputs": [
    {
     "data": {
      "image/png": "[encoded data removed]",
      "text/latex": [
       "$$a^{2} \\left(f{\\left (\\varphi \\right )} \\sin{\\left (2 \\theta \\right )} - \\cos{\\left (2 \\theta \\right )} \\frac{\\partial}{\\partial \\varphi} \\xi^{1}{\\left (\\theta,\\varphi \\right )} + \\frac{\\partial}{\\partial \\varphi} \\xi^{1}{\\left (\\theta,\\varphi \\right )}\\right)$$"
      ],
      "text/plain": [
       " 2 ⎛                                 ∂                        ∂               \n",
       "a ⋅⎜f(varphi)⋅sin(2⋅θ) - cos(2⋅θ)⋅───────(ξ¹(θ, varphi)) + ───────(ξ¹(θ, varph\n",
       "   ⎝                              ∂varphi                  ∂varphi            \n",
       "\n",
       "   ⎞\n",
       "i))⎟\n",
       "   ⎠"
      ]
     },
     "execution_count": 36,
     "metadata": {},
     "output_type": "execute_result"
    }
   ],
   "source": [
    "f = Function('f')(phi)\n",
    "e1r=e1.subs(xi0,f)\n",
    "e1r"
   ]
  },
  {
   "cell_type": "code",
   "execution_count": 37,
   "metadata": {
    "collapsed": false
   },
   "outputs": [
    {
     "data": {
      "image/png": "[encoded data removed]",
      "text/latex": [
       "$$a^{2} \\left(\\sin^{2}{\\left (\\theta \\right )} \\frac{\\partial}{\\partial \\theta} \\xi^{1}{\\left (\\theta,\\varphi \\right )} + \\frac{d}{d \\varphi} f{\\left (\\varphi \\right )}\\right)$$"
      ],
      "text/plain": [
       " 2 ⎛   2    ∂                      d              ⎞\n",
       "a ⋅⎜sin (θ)⋅──(ξ¹(θ, varphi)) + ───────(f(varphi))⎟\n",
       "   ⎝        ∂θ                  dvarphi           ⎠"
      ]
     },
     "execution_count": 37,
     "metadata": {},
     "output_type": "execute_result"
    }
   ],
   "source": [
    "e2r=e2.subs(xi0,f)\n",
    "e2r"
   ]
  },
  {
   "cell_type": "markdown",
   "metadata": {},
   "source": [
    "Now we solve for $f(\\varphi)$"
   ]
  },
  {
   "cell_type": "code",
   "execution_count": 38,
   "metadata": {
    "collapsed": false
   },
   "outputs": [
    {
     "data": {
      "image/png": "[encoded data removed]",
      "text/latex": [
       "$$\\left [ - \\tan{\\left (\\theta \\right )} \\frac{\\partial}{\\partial \\varphi} \\xi^{1}{\\left (\\theta,\\varphi \\right )}\\right ]$$"
      ],
      "text/plain": [
       "⎡           ∂                  ⎤\n",
       "⎢-tan(θ)⋅───────(ξ¹(θ, varphi))⎥\n",
       "⎣        ∂varphi               ⎦"
      ]
     },
     "execution_count": 38,
     "metadata": {},
     "output_type": "execute_result"
    }
   ],
   "source": [
    "sf=solve(e1r,f)\n",
    "sf"
   ]
  },
  {
   "cell_type": "markdown",
   "metadata": {},
   "source": [
    "And substitute it back in equation 2:"
   ]
  },
  {
   "cell_type": "code",
   "execution_count": 39,
   "metadata": {
    "collapsed": false
   },
   "outputs": [
    {
     "data": {
      "image/png": "[encoded data removed]",
      "text/latex": [
       "$$a^{2} \\left(\\sin^{2}{\\left (\\theta \\right )} \\frac{\\partial}{\\partial \\theta} \\xi^{1}{\\left (\\theta,\\varphi \\right )} - \\tan{\\left (\\theta \\right )} \\frac{\\partial^{2}}{\\partial \\varphi^{2}}  \\xi^{1}{\\left (\\theta,\\varphi \\right )}\\right)$$"
      ],
      "text/plain": [
       "   ⎛                                       2                  ⎞\n",
       " 2 ⎜   2    ∂                             ∂                   ⎟\n",
       "a ⋅⎜sin (θ)⋅──(ξ¹(θ, varphi)) - tan(θ)⋅────────(ξ¹(θ, varphi))⎟\n",
       "   ⎜        ∂θ                                2               ⎟\n",
       "   ⎝                                   ∂varphi                ⎠"
      ]
     },
     "execution_count": 39,
     "metadata": {},
     "output_type": "execute_result"
    }
   ],
   "source": [
    "e2r2 = e2r.subs(f,sf[0]).doit()\n",
    "e2r2"
   ]
  },
  {
   "cell_type": "code",
   "execution_count": 40,
   "metadata": {
    "collapsed": false
   },
   "outputs": [
    {
     "data": {
      "image/png": "[encoded data removed]",
      "text/latex": [
       "$$\\sin{\\left (\\theta \\right )} \\frac{\\partial}{\\partial \\theta} \\xi^{1}{\\left (\\theta,\\varphi \\right )} - \\frac{\\frac{\\partial^{2}}{\\partial \\varphi^{2}}  \\xi^{1}{\\left (\\theta,\\varphi \\right )}}{\\cos{\\left (\\theta \\right )}}$$"
      ],
      "text/plain": [
       "                               2                  \n",
       "                              ∂                   \n",
       "                           ────────(ξ¹(θ, varphi))\n",
       "                                  2               \n",
       "       ∂                   ∂varphi                \n",
       "sin(θ)⋅──(ξ¹(θ, varphi)) - ───────────────────────\n",
       "       ∂θ                           cos(θ)        "
      ]
     },
     "execution_count": 40,
     "metadata": {},
     "output_type": "execute_result"
    }
   ],
   "source": [
    "e2r3=trigsimp(e2r2/(a**2*sin(theta)))\n",
    "e2r3"
   ]
  },
  {
   "cell_type": "code",
   "execution_count": 41,
   "metadata": {
    "collapsed": false
   },
   "outputs": [],
   "source": [
    "#g, h = map(Function, 'gh')\n",
    "g = Function('g', real=True)(theta)\n",
    "h = Function('h', real=True)(phi)"
   ]
  },
  {
   "cell_type": "code",
   "execution_count": 42,
   "metadata": {
    "collapsed": false,
    "scrolled": true
   },
   "outputs": [],
   "source": [
    "sep=pde_separate(Eq(e2r3),xi1,[g,h],strategy='mul')"
   ]
  },
  {
   "cell_type": "code",
   "execution_count": 43,
   "metadata": {
    "collapsed": false
   },
   "outputs": [],
   "source": [
    "n = Symbol('n', real=True, integer=True)"
   ]
  },
  {
   "cell_type": "code",
   "execution_count": 44,
   "metadata": {
    "collapsed": false
   },
   "outputs": [
    {
     "data": {
      "image/png": "[encoded data removed]",
      "text/latex": [
       "$$g{\\left (\\theta \\right )} = C_{1} e^{\\frac{n^{2}}{2} \\left(- \\log{\\left (\\cos^{2}{\\left (\\theta \\right )} - 1 \\right )} + \\log{\\left (\\cos^{2}{\\left (\\theta \\right )} \\right )}\\right)}$$"
      ],
      "text/plain": [
       "            2 ⎛     ⎛   2       ⎞      ⎛   2   ⎞⎞\n",
       "           n ⋅⎝- log⎝cos (θ) - 1⎠ + log⎝cos (θ)⎠⎠\n",
       "           ──────────────────────────────────────\n",
       "                             2                   \n",
       "g(θ) = C₁⋅ℯ                                      "
      ]
     },
     "execution_count": 44,
     "metadata": {},
     "output_type": "execute_result"
    }
   ],
   "source": [
    "sg=dsolve(sep[0]+n**2)\n",
    "sg"
   ]
  },
  {
   "cell_type": "code",
   "execution_count": 45,
   "metadata": {
    "collapsed": false
   },
   "outputs": [
    {
     "data": {
      "image/png": "[encoded data removed]",
      "text/latex": [
       "$$h{\\left (\\varphi \\right )} = C_{1} \\sin{\\left (\\varphi \\left|{n}\\right| \\right )} + C_{2} \\cos{\\left (n \\varphi \\right )}$$"
      ],
      "text/plain": [
       "h(varphi) = C₁⋅sin(varphi⋅│n│) + C₂⋅cos(n⋅varphi)"
      ]
     },
     "execution_count": 45,
     "metadata": {},
     "output_type": "execute_result"
    }
   ],
   "source": [
    "sh=dsolve(sep[1]+n**2)\n",
    "sh"
   ]
  },
  {
   "cell_type": "code",
   "execution_count": 46,
   "metadata": {
    "collapsed": false
   },
   "outputs": [
    {
     "data": {
      "image/png": "[encoded data removed]",
      "text/latex": [
       "$$C_{1} \\left(C_{1} \\sin{\\left (\\varphi \\left|{n}\\right| \\right )} + C_{2} \\cos{\\left (n \\varphi \\right )}\\right) e^{\\frac{n^{2}}{2} \\left(- \\log{\\left (\\cos^{2}{\\left (\\theta \\right )} - 1 \\right )} + \\log{\\left (\\cos^{2}{\\left (\\theta \\right )} \\right )}\\right)}$$"
      ],
      "text/plain": [
       "                                             2 ⎛     ⎛   2       ⎞      ⎛   2 \n",
       "                                            n ⋅⎝- log⎝cos (θ) - 1⎠ + log⎝cos (\n",
       "                                            ──────────────────────────────────\n",
       "                                                              2               \n",
       "C₁⋅(C₁⋅sin(varphi⋅│n│) + C₂⋅cos(n⋅varphi))⋅ℯ                                  \n",
       "\n",
       "  ⎞⎞\n",
       "θ)⎠⎠\n",
       "────\n",
       "    \n",
       "    "
      ]
     },
     "execution_count": 46,
     "metadata": {},
     "output_type": "execute_result"
    }
   ],
   "source": [
    "sxi1 = sg.rhs*sh.rhs\n",
    "sxi1"
   ]
  },
  {
   "cell_type": "code",
   "execution_count": 47,
   "metadata": {
    "collapsed": false
   },
   "outputs": [
    {
     "data": {
      "image/png": "[encoded data removed]",
      "text/latex": [
       "$$- \\tan{\\left (\\theta \\right )} \\frac{\\partial}{\\partial \\varphi} \\xi^{1}{\\left (\\theta,\\varphi \\right )}$$"
      ],
      "text/plain": [
       "           ∂                  \n",
       "-tan(θ)⋅───────(ξ¹(θ, varphi))\n",
       "        ∂varphi               "
      ]
     },
     "execution_count": 47,
     "metadata": {},
     "output_type": "execute_result"
    }
   ],
   "source": [
    "sf[0]"
   ]
  },
  {
   "cell_type": "code",
   "execution_count": 48,
   "metadata": {
    "collapsed": false
   },
   "outputs": [
    {
     "data": {
      "image/png": "[encoded data removed]",
      "text/latex": [
       "$$- C_{1} \\left(C_{1} \\cos{\\left (\\varphi \\left|{n}\\right| \\right )} \\left|{n}\\right| - C_{2} n \\sin{\\left (n \\varphi \\right )}\\right) e^{\\frac{n^{2}}{2} \\left(- \\log{\\left (\\cos^{2}{\\left (\\theta \\right )} - 1 \\right )} + \\log{\\left (\\cos^{2}{\\left (\\theta \\right )} \\right )}\\right)} \\tan{\\left (\\theta \\right )}$$"
      ],
      "text/plain": [
       "                                                    2 ⎛     ⎛   2       ⎞     \n",
       "                                                   n ⋅⎝- log⎝cos (θ) - 1⎠ + lo\n",
       "                                                   ───────────────────────────\n",
       "                                                                     2        \n",
       "-C₁⋅(C₁⋅cos(varphi⋅│n│)⋅│n│ - C₂⋅n⋅sin(n⋅varphi))⋅ℯ                           \n",
       "\n",
       " ⎛   2   ⎞⎞       \n",
       "g⎝cos (θ)⎠⎠       \n",
       "───────────       \n",
       "                  \n",
       "           ⋅tan(θ)"
      ]
     },
     "execution_count": 48,
     "metadata": {},
     "output_type": "execute_result"
    }
   ],
   "source": [
    "sf[0].subs(xi1,sxi1).doit()"
   ]
  },
  {
   "cell_type": "markdown",
   "metadata": {},
   "source": [
    "# Checking Killing equations:"
   ]
  },
  {
   "cell_type": "markdown",
   "metadata": {},
   "source": [
    "$$\\xi^a_{1}(\\theta,\\varphi)=(\\sin(\\varphi),\\cot(\\theta)\\cos(\\theta)),$$\n",
    "\n",
    "$$\\xi^a_{2}(\\theta,\\varphi)=(\\cos(\\varphi),-\\cot(\\theta)\\sin(\\theta)),$$\n",
    "\n",
    "$$\\xi^a_{3}(\\theta,\\varphi)=(0,1),$$\n",
    "\n",
    "$$\n",
    "\\xi^a=\\alpha \\xi^a_{1} + \\beta \\xi^a_{2} + \\gamma \\xi^a_{3}\n",
    "$$"
   ]
  },
  {
   "cell_type": "code",
   "execution_count": 49,
   "metadata": {
    "collapsed": true
   },
   "outputs": [],
   "source": [
    "alpha, beta, gamma = symbols('alpha, beta, gamma')\n",
    "xi1 = XI((theta,phi))\n",
    "xi[0] = alpha*sin(phi) + beta*cos(phi) \n",
    "xi[1] = alpha*cot(theta)*cos(phi) - beta*cot(theta)*sin(phi)+  gamma"
   ]
  },
  {
   "cell_type": "code",
   "execution_count": 50,
   "metadata": {
    "collapsed": false
   },
   "outputs": [],
   "source": [
    "K = Killing_Equation(xi,gab)"
   ]
  },
  {
   "cell_type": "code",
   "execution_count": 51,
   "metadata": {
    "collapsed": false
   },
   "outputs": [
    {
     "data": {
      "image/png": "[encoded data removed]",
      "text/latex": [
       "$$\\left [ \\right ]$$"
      ],
      "text/plain": [
       "[]"
      ]
     },
     "execution_count": 51,
     "metadata": {},
     "output_type": "execute_result"
    }
   ],
   "source": [
    "K.getNonZero()"
   ]
  },
  {
   "cell_type": "code",
   "execution_count": 52,
   "metadata": {
    "collapsed": false
   },
   "outputs": [
    {
     "name": "stdout",
     "output_type": "stream",
     "text": [
      "All the components of K_{ab} are 0!\n"
     ]
    }
   ],
   "source": [
    "K.__str__()"
   ]
  },
  {
   "cell_type": "markdown",
   "metadata": {},
   "source": [
    "# Covariant derivative:"
   ]
  },
  {
   "cell_type": "code",
   "execution_count": 53,
   "metadata": {
    "collapsed": true
   },
   "outputs": [],
   "source": [
    "xi = XI((theta,phi))"
   ]
  },
  {
   "cell_type": "code",
   "execution_count": 54,
   "metadata": {
    "collapsed": true
   },
   "outputs": [],
   "source": [
    "xi0 = Function('xi^0')(theta,phi)\n",
    "xi1 = Function('xi^1')(theta,phi)"
   ]
  },
  {
   "cell_type": "code",
   "execution_count": 55,
   "metadata": {
    "collapsed": true
   },
   "outputs": [],
   "source": [
    "xi[0]= xi0\n",
    "xi[1]= xi1"
   ]
  },
  {
   "cell_type": "code",
   "execution_count": 56,
   "metadata": {
    "collapsed": false
   },
   "outputs": [
    {
     "data": {
      "image/png": "[encoded data removed]",
      "text/latex": [
       "$$\\left [ \\left ( \\left ( -1, \\quad 0\\right ), \\quad - \\frac{1}{2} \\xi^{1}{\\left (\\theta,\\varphi \\right )} \\sin{\\left (2 \\theta \\right )} + \\frac{\\partial}{\\partial \\varphi} \\xi^{0}{\\left (\\theta,\\varphi \\right )}\\right ), \\quad \\left ( \\left ( -1, \\quad 1\\right ), \\quad \\frac{\\xi^{0}{\\left (\\theta,\\varphi \\right )}}{\\tan{\\left (\\theta \\right )}} + \\frac{\\partial}{\\partial \\varphi} \\xi^{1}{\\left (\\theta,\\varphi \\right )}\\right ), \\quad \\left ( \\left ( 0, \\quad 0\\right ), \\quad \\frac{\\partial}{\\partial \\theta} \\xi^{0}{\\left (\\theta,\\varphi \\right )}\\right ), \\quad \\left ( \\left ( 0, \\quad 1\\right ), \\quad \\frac{\\xi^{1}{\\left (\\theta,\\varphi \\right )}}{\\tan{\\left (\\theta \\right )}} + \\frac{\\partial}{\\partial \\theta} \\xi^{1}{\\left (\\theta,\\varphi \\right )}\\right )\\right ]$$"
      ],
      "text/plain": [
       "⎡⎛           ξ¹(θ, varphi)⋅sin(2⋅θ)      ∂                  ⎞  ⎛         ξ⁰(θ,\n",
       "⎢⎜(-1, 0), - ────────────────────── + ───────(ξ⁰(θ, varphi))⎟, ⎜(-1, 1), ─────\n",
       "⎣⎝                     2              ∂varphi               ⎠  ⎝             t\n",
       "\n",
       " varphi)      ∂                  ⎞  ⎛        ∂                ⎞  ⎛        ξ¹(θ\n",
       "──────── + ───────(ξ¹(θ, varphi))⎟, ⎜(0, 0), ──(ξ⁰(θ, varphi))⎟, ⎜(0, 1), ────\n",
       "an(θ)      ∂varphi               ⎠  ⎝        ∂θ               ⎠  ⎝            \n",
       "\n",
       ", varphi)   ∂                ⎞⎤\n",
       "───────── + ──(ξ¹(θ, varphi))⎟⎥\n",
       "tan(θ)      ∂θ               ⎠⎦"
      ]
     },
     "execution_count": 56,
     "metadata": {},
     "output_type": "execute_result"
    }
   ],
   "source": [
    "Cov_der = Covariant_Derivative(xi, chris)\n",
    "Cov_der.getNonZero()"
   ]
  },
  {
   "cell_type": "code",
   "execution_count": 57,
   "metadata": {
    "collapsed": false
   },
   "outputs": [
    {
     "name": "stdout",
     "output_type": "stream",
     "text": [
      "======================================================================\n",
      "The non-zero components of nabla_{a} are:\n",
      "(-1, 0) : -xi^1(theta, varphi)*sin(2*theta)/2 + Derivative(xi^0(theta, varphi), varphi)\n",
      "(-1, 1) : (xi^0(theta, varphi) + tan(theta)*Derivative(xi^1(theta, varphi), varphi))/tan(theta)\n",
      "(0, 0) : Derivative(xi^0(theta, varphi), theta)\n",
      "(0, 1) : (xi^1(theta, varphi) + tan(theta)*Derivative(xi^1(theta, varphi), theta))/tan(theta)\n",
      "======================================================================\n"
     ]
    }
   ],
   "source": [
    "Cov_der.__str__()"
   ]
  },
  {
   "cell_type": "markdown",
   "metadata": {},
   "source": [
    "# Geodesic equation:"
   ]
  },
  {
   "cell_type": "code",
   "execution_count": 58,
   "metadata": {
    "collapsed": false
   },
   "outputs": [
    {
     "data": {
      "image/png": "[encoded data removed]",
      "text/latex": [
       "$$(Geoeq)^{a}$$"
      ],
      "text/plain": [
       "(Geoeq)__{a}"
      ]
     },
     "execution_count": 58,
     "metadata": {},
     "output_type": "execute_result"
    }
   ],
   "source": [
    "Geoeq = Geodesic_Equation(chris)\n",
    "Geoeq.symbol"
   ]
  },
  {
   "cell_type": "code",
   "execution_count": 59,
   "metadata": {
    "collapsed": false
   },
   "outputs": [
    {
     "data": {
      "image/png": "[encoded data removed]",
      "text/latex": [
       "$$\\left [ \\left ( 0, \\quad - \\frac{1}{2} \\sin{\\left (2 \\theta \\right )} \\frac{d}{d l} \\varphi{\\left (l \\right )}^{2} + \\frac{d^{2}}{d l^{2}}  \\theta{\\left (l \\right )}\\right ), \\quad \\left ( 1, \\quad \\frac{d^{2}}{d l^{2}}  \\varphi{\\left (l \\right )} + \\frac{2 \\frac{d}{d l} \\theta{\\left (l \\right )}}{\\tan{\\left (\\theta \\right )}} \\frac{d}{d l} \\varphi{\\left (l \\right )}\\right )\\right ]$$"
      ],
      "text/plain": [
       "⎡⎛                             2            ⎞                                 \n",
       "⎢⎜              ⎛d            ⎞             ⎟  ⎛                      d       \n",
       "⎢⎜     sin(2⋅θ)⋅⎜──(varphi(l))⎟      2      ⎟  ⎜     2              2⋅──(θ(l))\n",
       "⎢⎜              ⎝dl           ⎠     d       ⎟  ⎜    d                 dl      \n",
       "⎢⎜0, - ───────────────────────── + ───(θ(l))⎟, ⎜1, ───(varphi(l)) + ──────────\n",
       "⎢⎜                 2                 2      ⎟  ⎜     2                       t\n",
       "⎣⎝                                 dl       ⎠  ⎝   dl                         \n",
       "\n",
       "               ⎤\n",
       " d            ⎞⎥\n",
       "⋅──(varphi(l))⎟⎥\n",
       " dl           ⎟⎥\n",
       "──────────────⎟⎥\n",
       "an(θ)         ⎟⎥\n",
       "              ⎠⎦"
      ]
     },
     "execution_count": 59,
     "metadata": {},
     "output_type": "execute_result"
    }
   ],
   "source": [
    "Geoeq.getNonZero()"
   ]
  },
  {
   "cell_type": "code",
   "execution_count": 60,
   "metadata": {
    "collapsed": false
   },
   "outputs": [
    {
     "name": "stdout",
     "output_type": "stream",
     "text": [
      "======================================================================\n",
      "The non-zero components of (Geoeq)^{a} are:\n",
      "0 : -sin(2*theta)*Derivative(varphi(l), l)**2/2 + Derivative(theta(l), l, l)\n",
      "1 : (tan(theta)*Derivative(varphi(l), l, l) + 2*Derivative(theta(l), l)*Derivative(varphi(l), l))/tan(theta)\n",
      "======================================================================\n"
     ]
    }
   ],
   "source": [
    "Geoeq.__str__()"
   ]
  },
  {
   "cell_type": "code",
   "execution_count": 61,
   "metadata": {
    "collapsed": false
   },
   "outputs": [
    {
     "data": {
      "image/png": "[encoded data removed]",
      "text/latex": [
       "$$- \\frac{1}{2} \\sin{\\left (2 \\theta \\right )} \\frac{d}{d l} \\varphi{\\left (l \\right )}^{2} + \\frac{d^{2}}{d l^{2}}  \\theta{\\left (l \\right )}$$"
      ],
      "text/plain": [
       "                          2            \n",
       "           ⎛d            ⎞             \n",
       "  sin(2⋅θ)⋅⎜──(varphi(l))⎟      2      \n",
       "           ⎝dl           ⎠     d       \n",
       "- ───────────────────────── + ───(θ(l))\n",
       "              2                 2      \n",
       "                              dl       "
      ]
     },
     "execution_count": 61,
     "metadata": {},
     "output_type": "execute_result"
    }
   ],
   "source": [
    "geq0 = Geoeq.components[0]\n",
    "geq0"
   ]
  },
  {
   "cell_type": "code",
   "execution_count": 62,
   "metadata": {
    "collapsed": false
   },
   "outputs": [
    {
     "data": {
      "image/png": "[encoded data removed]",
      "text/latex": [
       "$$\\frac{d^{2}}{d l^{2}}  \\varphi{\\left (l \\right )} + \\frac{2 \\frac{d}{d l} \\theta{\\left (l \\right )}}{\\tan{\\left (\\theta \\right )}} \\frac{d}{d l} \\varphi{\\left (l \\right )}$$"
      ],
      "text/plain": [
       "                   d        d            \n",
       "  2              2⋅──(θ(l))⋅──(varphi(l))\n",
       " d                 dl       dl           \n",
       "───(varphi(l)) + ────────────────────────\n",
       "  2                       tan(θ)         \n",
       "dl                                       "
      ]
     },
     "execution_count": 62,
     "metadata": {},
     "output_type": "execute_result"
    }
   ],
   "source": [
    "geq1 = Geoeq.components[1]\n",
    "geq1"
   ]
  }
 ],
 "metadata": {
  "anaconda-cloud": {},
  "kernelspec": {
   "display_name": "Python 3",
   "language": "python",
   "name": "python3"
  },
  "language_info": {
   "codemirror_mode": {
    "name": "ipython",
    "version": 3
   },
   "file_extension": ".py",
   "mimetype": "text/x-python",
   "name": "python",
   "nbconvert_exporter": "python",
   "pygments_lexer": "ipython3",
   "version": "3.6.2"
  }
 },
 "nbformat": 4,
 "nbformat_minor": 2
}
