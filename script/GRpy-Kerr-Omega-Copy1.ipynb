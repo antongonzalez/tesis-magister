{
 "cells": [
  {
   "cell_type": "code",
   "execution_count": 1,
   "metadata": {},
   "outputs": [],
   "source": [
    "from numpy import *\n",
    "from GRpy.all import *\n",
    "init_printing()\n",
    "#init_printing(use_latex='mathjax')"
   ]
  },
  {
   "cell_type": "code",
   "execution_count": 2,
   "metadata": {},
   "outputs": [],
   "source": [
    "t, x0, r, th, phi = symbols('t, x^0, r, theta, varphi',positive=True , real=True)\n",
    "m,a = symbols('m,a', positive = True)\n",
    "ut, omega, v, p2 = symbols('u_t, omega, v, p2', real=True)\n",
    "M = Symbol('M', real=True)\n",
    "s = Symbol('s', real=True)\n",
    "S = Symbol('S', real=True)\n",
    "pt = Function(r'p_t')(s)\n",
    "pr = Function(r'p_r')(s)\n",
    "ptheta = Function(r'p_{\\theta}')(s)\n",
    "pphi = Function(r'p_{\\phi}')(s)\n",
    "st = Function(r'S^t')(s)\n",
    "sr = Function(r'S^r')(s)\n",
    "stheta = Function(r'S^{\\theta}')(s)\n",
    "sphi = Function(r'S^{\\phi}')(s)"
   ]
  },
  {
   "cell_type": "code",
   "execution_count": 3,
   "metadata": {},
   "outputs": [],
   "source": [
    "sigma = r**2 + (a*cos(th))**2\n",
    "delta = r**2 - 2*m*r + a**2"
   ]
  },
  {
   "cell_type": "code",
   "execution_count": 4,
   "metadata": {},
   "outputs": [],
   "source": [
    "g = Metric((x0, r, th, phi))\n",
    "g[-0,-0] = (1-(2*m*r/sigma))\n",
    "g[-0,-1] = 0\n",
    "g[-0,-2] = 0\n",
    "g[-0,-3] = (2*a*m*r*sin(th)**2)/sigma\n",
    "g[-1,-0] = 0\n",
    "g[-1,-1] = -sigma/delta\n",
    "g[-1,-2] = 0\n",
    "g[-1,-3] = 0\n",
    "g[-2,-0] = 0\n",
    "g[-2,-1] = 0\n",
    "g[-2,-2] = -sigma\n",
    "g[-2,-3] = 0\n",
    "g[-3,-0] = (2*a*m*r*sin(th)**2)/sigma\n",
    "g[-3,-1] = 0\n",
    "g[-3,-2] = 0\n",
    "g[-3,-3] = -(r**2 +a**2 + (2*a**2*m*r*sin(th)**2)/sigma)*sin(th)**2"
   ]
  },
  {
   "cell_type": "code",
   "execution_count": 5,
   "metadata": {},
   "outputs": [],
   "source": [
    "ginv = g.invert()\n",
    "chris = Christoffel(g)\n",
    "riem = Riemann(chris)"
   ]
  },
  {
   "cell_type": "code",
   "execution_count": 6,
   "metadata": {},
   "outputs": [],
   "source": [
    "def dw(A,mu):\n",
    "    downvector=0\n",
    "    for nu in range(4):\n",
    "        downvector += g.components[(-mu,-nu)]*A[nu]\n",
    "    \n",
    "    return simplify(downvector.subs(th,pi/2))\n",
    "\n",
    "def down(A):\n",
    "    return [dw(A,mu) for mu in range(4)]\n",
    "\n",
    "def uw(A,mu):\n",
    "    upvector=0\n",
    "    for nu in range(4):\n",
    "        upvector += ginv.components[(mu,nu)]*A[nu]\n",
    "    \n",
    "    return simplify(upvector.subs(th,pi/2))\n",
    "\n",
    "def up(A):\n",
    "    return [uw(A,mu) for mu in range(4)]"
   ]
  },
  {
   "cell_type": "code",
   "execution_count": 7,
   "metadata": {},
   "outputs": [],
   "source": [
    "sup=[0,0,S/r,0]\n",
    "pdown=[pt,pr,ptheta,pphi]\n",
    "\n",
    "sdown=down(sup)\n",
    "pup=up(pdown)"
   ]
  },
  {
   "cell_type": "code",
   "execution_count": 8,
   "metadata": {},
   "outputs": [],
   "source": [
    "uupnonorm=[ut,0,0,(a/(a**2+r**2))*ut]\n",
    "\n",
    "N=0\n",
    "for i in range(4):\n",
    "    for j in range(4):\n",
    "        N += g.components[(-i,-j)]*uupnonorm[i]*uupnonorm[j]\n",
    "        \n",
    "eq=1-N.subs(th,pi/2)\n",
    "\n",
    "utnorm=solve(eq,ut)[1]\n",
    "uphinorm=(a/(a**2+r**2))*utnorm\n",
    "uup=[simplify(utnorm),0,0,simplify(uphinorm)]\n",
    "udown=down(uup)"
   ]
  },
  {
   "cell_type": "code",
   "execution_count": 9,
   "metadata": {},
   "outputs": [
    {
     "data": {
      "image/png": "[encoded data removed]",
      "text/latex": [
       "$\\displaystyle \\left[ \\frac{\\left(a^{2} - 2 m r + r^{2}\\right) \\sqrt{\\frac{1}{a^{2} - 2 m r + r^{2}}}}{r}, \\  0, \\  0, \\  - \\frac{a \\left(a^{2} - 2 m r + r^{2}\\right) \\sqrt{\\frac{1}{a^{2} - 2 m r + r^{2}}}}{r}\\right]$"
      ],
      "text/plain": [
       "⎡                       _________________                                  ___\n",
       "⎢⎛ 2            2⎞     ╱        1                   ⎛ 2            2⎞     ╱   \n",
       "⎢⎝a  - 2⋅m⋅r + r ⎠⋅   ╱  ───────────────         -a⋅⎝a  - 2⋅m⋅r + r ⎠⋅   ╱  ──\n",
       "⎢                    ╱    2            2                                ╱    2\n",
       "⎢                  ╲╱    a  - 2⋅m⋅r + r                               ╲╱    a \n",
       "⎢────────────────────────────────────────, 0, 0, ─────────────────────────────\n",
       "⎣                   r                                                 r       \n",
       "\n",
       "______________ ⎤\n",
       "     1         ⎥\n",
       "─────────────  ⎥\n",
       "            2  ⎥\n",
       " - 2⋅m⋅r + r   ⎥\n",
       "───────────────⎥\n",
       "               ⎦"
      ]
     },
     "execution_count": 9,
     "metadata": {},
     "output_type": "execute_result"
    }
   ],
   "source": [
    "udown"
   ]
  },
  {
   "cell_type": "code",
   "execution_count": 10,
   "metadata": {},
   "outputs": [],
   "source": [
    "def lcup(i,j,k,l):\n",
    "    return -LeviCivita(i,j,k,l)/(r**2)\n",
    "\n",
    "def lcdown(i,j,k,l):\n",
    "    return r**2*LeviCivita(i,j,k,l)"
   ]
  },
  {
   "cell_type": "code",
   "execution_count": 11,
   "metadata": {},
   "outputs": [],
   "source": [
    "def htensor(mu,nu):\n",
    "    htensor=0\n",
    "    for gamma in range(4):\n",
    "        for lamda in range(4):\n",
    "            for alpha in range(4):\n",
    "                for sigma in range(4):\n",
    "                    htensor += -(-1/2)*lcdown(gamma,lamda,mu,alpha)*riem.Riemann_par.components[(gamma,lamda,-nu,-sigma)]*uup[alpha]*uup[sigma]\n",
    "                    \n",
    "    return simplify(htensor.subs(th,pi/2))"
   ]
  },
  {
   "cell_type": "code",
   "execution_count": 12,
   "metadata": {},
   "outputs": [],
   "source": [
    "def ch(mu):\n",
    "    ch=0\n",
    "    for i in range(4):\n",
    "        for j in range(4):\n",
    "            ch += -chris.components[(i,-mu,-j)]*uup[j]*pdown[i]\n",
    "        \n",
    "    return simplify(ch.subs(th,pi/2))\n",
    "\n",
    "def hs(mu):\n",
    "    hs=0\n",
    "    for nu in range(4):\n",
    "        hs += htensor(nu,mu)*sup[nu]\n",
    "        \n",
    "    return simplify(hs)\n",
    "\n",
    "def dpmu(mu):\n",
    "    return simplify(diff(pdown[mu],s)+ch(mu)+hs(mu))\n",
    "\n",
    "dpmu=[dpmu(0),dpmu(1),dpmu(2),dpmu(3)]"
   ]
  },
  {
   "cell_type": "code",
   "execution_count": 13,
   "metadata": {},
   "outputs": [],
   "source": [
    "c2=0\n",
    "for i in range(4):\n",
    "    for j in range(4):\n",
    "        for k in range(4):\n",
    "            c2 += chris.components[(i,-j,-k)]*sdown[i]*uup[j]*uup[k]\n",
    "            \n",
    "def c3(mu):\n",
    "    c=0\n",
    "    for i in range(4):\n",
    "        for j in range(4):\n",
    "            c += chris.components[(mu,-i,-j)]*sup[i]*uup[j]\n",
    "    \n",
    "    return c\n",
    "\n",
    "def dsmu(mu):\n",
    "    A=c3(mu)+uup[mu]*c2\n",
    "    B=simplify(A.subs(th,pi/2))\n",
    "    return diff(sup[mu],s)+B\n",
    "    \n",
    "dsmu=[dsmu(0),dsmu(1),dsmu(2),dsmu(3)]"
   ]
  },
  {
   "cell_type": "code",
   "execution_count": 14,
   "metadata": {},
   "outputs": [
    {
     "data": {
      "image/png": "[encoded data removed]",
      "text/latex": [
       "$\\displaystyle \\frac{d}{d s} \\operatorname{p_{\\theta}}{\\left(s \\right)}$"
      ],
      "text/plain": [
       "d                \n",
       "──(p_{\\theta}(s))\n",
       "ds               "
      ]
     },
     "execution_count": 14,
     "metadata": {},
     "output_type": "execute_result"
    }
   ],
   "source": [
    "dpmu[2]"
   ]
  },
  {
   "cell_type": "code",
   "execution_count": 15,
   "metadata": {},
   "outputs": [
    {
     "data": {
      "image/png": "[encoded data removed]",
      "text/latex": [
       "$\\displaystyle \\left[ 0, \\  0, \\  0, \\  0\\right]$"
      ],
      "text/plain": [
       "[0, 0, 0, 0]"
      ]
     },
     "execution_count": 15,
     "metadata": {},
     "output_type": "execute_result"
    }
   ],
   "source": [
    "dsmu"
   ]
  },
  {
   "cell_type": "code",
   "execution_count": 16,
   "metadata": {},
   "outputs": [],
   "source": [
    "dpmu2=[dpmu[0],dpmu[1],dpmu[3]]\n",
    "psol=dsolve(dpmu2)\n",
    "\n",
    "#dsmu2=[dsmu[0],dsmu[1],dsmu[3]]\n",
    "#ssol=dsolve(dsmu2)"
   ]
  },
  {
   "cell_type": "code",
   "execution_count": 17,
   "metadata": {},
   "outputs": [
    {
     "data": {
      "image/png": "[encoded data removed]",
      "text/latex": [
       "$\\displaystyle \\left[ \\operatorname{p_{t}}{\\left(s \\right)} = \\frac{C_{1} a \\left(- m + r\\right)}{m \\left(a^{2} - r^{2}\\right)} - \\frac{C_{2} m e^{\\frac{s \\sqrt{\\frac{- a^{2} + m^{2}}{a^{2} - 2 m r + r^{2}}}}{r}}}{a \\left(m + r\\right)} - \\frac{C_{3} m e^{- \\frac{s \\sqrt{- \\frac{a^{2} - m^{2}}{a^{2} - 2 m r + r^{2}}}}{r}}}{a \\left(m + r\\right)}, \\  \\operatorname{p_{r}}{\\left(s \\right)} = - \\frac{C_{2} r^{2} \\sqrt{- \\frac{a^{2} - m^{2}}{a^{2} - 2 m r + r^{2}}} \\sqrt{\\frac{1}{a^{2} - 2 m r + r^{2}}} e^{\\frac{s \\sqrt{\\frac{- a^{2} + m^{2}}{a^{2} - 2 m r + r^{2}}}}{r}}}{a \\left(m + r\\right)} + \\frac{C_{3} r^{2} \\sqrt{\\frac{- a^{2} + m^{2}}{a^{2} - 2 m r + r^{2}}} \\sqrt{\\frac{1}{a^{2} - 2 m r + r^{2}}} e^{- \\frac{s \\sqrt{- \\frac{a^{2} - m^{2}}{a^{2} - 2 m r + r^{2}}}}{r}}}{a \\left(m + r\\right)}, \\  \\operatorname{p_{\\phi}}{\\left(s \\right)} = C_{1} + C_{2} e^{\\frac{s \\sqrt{\\frac{- a^{2} + m^{2}}{a^{2} - 2 m r + r^{2}}}}{r}} + C_{3} e^{- \\frac{s \\sqrt{- \\frac{a^{2} - m^{2}}{a^{2} - 2 m r + r^{2}}}}{r}}\\right]$"
      ],
      "text/plain": [
       "⎡                                                                             \n",
       "⎢                                                                             \n",
       "⎢                                      _________________                  ____\n",
       "⎢                                     ╱       2    2                     ╱    \n",
       "⎢                                    ╱     - a  + m                     ╱    -\n",
       "⎢                              s⋅   ╱   ───────────────          -s⋅   ╱   ───\n",
       "⎢                                  ╱     2            2               ╱     2 \n",
       "⎢                                ╲╱     a  - 2⋅m⋅r + r              ╲╱     a  \n",
       "⎢                              ─────────────────────────         ─────────────\n",
       "⎢                                          r                                  \n",
       "⎢        C₁⋅a⋅(-m + r)   C₂⋅m⋅ℯ                            C₃⋅m⋅ℯ             \n",
       "⎢pₜ(s) = ───────────── - ─────────────────────────────── - ───────────────────\n",
       "⎢           ⎛ 2    2⎞               a⋅(m + r)                          a⋅(m + \n",
       "⎣         m⋅⎝a  - r ⎠                                                         \n",
       "\n",
       "                                                                              \n",
       "                                                                              \n",
       "_____________                                                                 \n",
       "⎛ 2    2⎞                                                                     \n",
       "⎝a  - m ⎠                                                                     \n",
       "────────────                          _________________                       \n",
       "           2                         ╱    ⎛ 2    2⎞          _________________\n",
       "- 2⋅m⋅r + r                   2     ╱    -⎝a  - m ⎠         ╱        1        \n",
       "──────────────            C₂⋅r ⋅   ╱   ─────────────── ⋅   ╱  ─────────────── \n",
       "r                                 ╱     2            2    ╱    2            2 \n",
       "                                ╲╱     a  - 2⋅m⋅r + r   ╲╱    a  - 2⋅m⋅r + r  \n",
       "──────────────, pᵣ(s) = - ────────────────────────────────────────────────────\n",
       "r)                                                           a⋅(m + r)        \n",
       "                                                                              \n",
       "\n",
       "          _________________                                                   \n",
       "         ╱       2    2                                                       \n",
       "        ╱     - a  + m                                                        \n",
       "  s⋅   ╱   ───────────────                                                    \n",
       "      ╱     2            2                                                    \n",
       "    ╲╱     a  - 2⋅m⋅r + r                 _________________                   \n",
       "  ─────────────────────────              ╱       2    2          _____________\n",
       "              r                   2     ╱     - a  + m          ╱        1    \n",
       "⋅ℯ                            C₃⋅r ⋅   ╱   ─────────────── ⋅   ╱  ────────────\n",
       "                                      ╱     2            2    ╱    2          \n",
       "                                    ╲╱     a  - 2⋅m⋅r + r   ╲╱    a  - 2⋅m⋅r +\n",
       "─────────────────────────── + ────────────────────────────────────────────────\n",
       "                                                                  a⋅(m + r)   \n",
       "                                                                              \n",
       "\n",
       "               _________________                                              \n",
       "              ╱    ⎛ 2    2⎞                                                  \n",
       "             ╱    -⎝a  - m ⎠                                                  \n",
       "      -s⋅   ╱   ───────────────                                   ____________\n",
       "           ╱     2            2                                  ╱       2    \n",
       "         ╲╱     a  - 2⋅m⋅r + r                                  ╱     - a  + m\n",
       "____  ───────────────────────────                         s⋅   ╱   ───────────\n",
       "                   r                                          ╱     2         \n",
       "─── ⋅ℯ                                                      ╲╱     a  - 2⋅m⋅r \n",
       "  2                                                       ────────────────────\n",
       " r                                                                    r       \n",
       "─────────────────────────────────, p_{\\phi}(s) = C₁ + C₂⋅ℯ                    \n",
       "                                                                              \n",
       "                                                                              \n",
       "\n",
       "                                       ⎤\n",
       "                                       ⎥\n",
       "                                       ⎥\n",
       "_____                _________________ ⎥\n",
       "2                   ╱    ⎛ 2    2⎞     ⎥\n",
       "                   ╱    -⎝a  - m ⎠     ⎥\n",
       "────        -s⋅   ╱   ───────────────  ⎥\n",
       "   2             ╱     2            2  ⎥\n",
       "+ r            ╲╱     a  - 2⋅m⋅r + r   ⎥\n",
       "─────       ───────────────────────────⎥\n",
       "                         r             ⎥\n",
       "      + C₃⋅ℯ                           ⎥\n",
       "                                       ⎥\n",
       "                                       ⎦"
      ]
     },
     "execution_count": 17,
     "metadata": {},
     "output_type": "execute_result"
    }
   ],
   "source": [
    "psol"
   ]
  },
  {
   "cell_type": "code",
   "execution_count": 18,
   "metadata": {},
   "outputs": [],
   "source": [
    "condicion=0\n",
    "for i in range(4):\n",
    "    condicion += sup[i]*udown[i]"
   ]
  },
  {
   "cell_type": "markdown",
   "metadata": {},
   "source": [
    "La condución a satisfacer es:"
   ]
  },
  {
   "cell_type": "code",
   "execution_count": 19,
   "metadata": {},
   "outputs": [
    {
     "data": {
      "image/png": "[encoded data removed]",
      "text/latex": [
       "$\\displaystyle 0$"
      ],
      "text/plain": [
       "0"
      ]
     },
     "execution_count": 19,
     "metadata": {},
     "output_type": "execute_result"
    }
   ],
   "source": [
    "simplify(condicion)"
   ]
  },
  {
   "cell_type": "code",
   "execution_count": 20,
   "metadata": {},
   "outputs": [],
   "source": [
    "del(ptheta)\n",
    "ptheta = Symbol('p_theta', real=True)\n",
    "\n",
    "pdownsol = [psol[0].rhs, psol[1].rhs, ptheta, psol[2].rhs]\n",
    "pupsol=up(pdownsol)"
   ]
  },
  {
   "cell_type": "code",
   "execution_count": 21,
   "metadata": {},
   "outputs": [],
   "source": [
    "def termino(mu):\n",
    "    termino=0\n",
    "    for nu in range(4):\n",
    "        for alpha in range(4):\n",
    "            for beta in range(4):\n",
    "                for sigma in range(4):\n",
    "                    for gamma in range(4):\n",
    "                        termino += -lcdown(mu,nu,gamma,sigma)*chris.components[(nu,-alpha,-beta)]*uup[sigma]*uup[alpha]*sup[gamma]*uup[beta]\n",
    "                        \n",
    "    return termino\n",
    "\n",
    "Masa=0\n",
    "for mu in range(4):\n",
    "    Masa += pupsol[mu]*udown[mu]\n",
    "\n",
    "def p(mu):\n",
    "    A=Masa*udown[mu]+termino(mu)\n",
    "    return simplify(A.subs(th,pi/2))\n",
    "\n",
    "momentum=[p(mu) for mu in range(4)]"
   ]
  },
  {
   "cell_type": "code",
   "execution_count": 22,
   "metadata": {},
   "outputs": [
    {
     "data": {
      "image/png": "[encoded data removed]",
      "text/latex": [
       "$\\displaystyle \\left( \\frac{\\sqrt{\\frac{- a^{2} + m^{2}}{a^{2} - 2 m r + r^{2}}} \\left(C_{2} e^{\\frac{2 s \\sqrt{\\frac{- a^{2} + m^{2}}{a^{2} - 2 m r + r^{2}}}}{r}} - C_{3}\\right) \\left(a^{2} - 2 m r + r^{2}\\right) \\sqrt{\\frac{1}{a^{2} - 2 m r + r^{2}}} e^{- \\frac{s \\sqrt{\\frac{- a^{2} + m^{2}}{a^{2} - 2 m r + r^{2}}}}{r}}}{a \\left(m + r\\right)}, \\  0\\right)$"
      ],
      "text/plain": [
       "⎛                        ⎛              _________________     ⎞               \n",
       "⎜                        ⎜             ╱       2    2         ⎟               \n",
       "⎜                        ⎜            ╱     - a  + m          ⎟               \n",
       "⎜                        ⎜    2⋅s⋅   ╱   ───────────────      ⎟               \n",
       "⎜                        ⎜          ╱     2            2      ⎟               \n",
       "⎜      _________________ ⎜        ╲╱     a  - 2⋅m⋅r + r       ⎟               \n",
       "⎜     ╱       2    2     ⎜    ───────────────────────────     ⎟               \n",
       "⎜    ╱     - a  + m      ⎜                 r                  ⎟ ⎛ 2           \n",
       "⎜   ╱   ─────────────── ⋅⎝C₂⋅ℯ                            - C₃⎠⋅⎝a  - 2⋅m⋅r + \n",
       "⎜  ╱     2            2                                                       \n",
       "⎜╲╱     a  - 2⋅m⋅r + r                                                        \n",
       "⎜─────────────────────────────────────────────────────────────────────────────\n",
       "⎝                                                             a⋅(m + r)       \n",
       "\n",
       "                                     _________________    ⎞\n",
       "                                    ╱       2    2        ⎟\n",
       "                                   ╱     - a  + m         ⎟\n",
       "                            -s⋅   ╱   ───────────────     ⎟\n",
       "                                 ╱     2            2     ⎟\n",
       "                               ╲╱     a  - 2⋅m⋅r + r      ⎟\n",
       "         _________________  ───────────────────────────   ⎟\n",
       " 2⎞     ╱        1                       r                ⎟\n",
       "r ⎠⋅   ╱  ─────────────── ⋅ℯ                              ⎟\n",
       "      ╱    2            2                                 ⎟\n",
       "    ╲╱    a  - 2⋅m⋅r + r                                  ⎟\n",
       "───────────────────────────────────────────────────────, 0⎟\n",
       "                                                          ⎠"
      ]
     },
     "execution_count": 22,
     "metadata": {},
     "output_type": "execute_result"
    }
   ],
   "source": [
    "pupsol[1], momentum[1]"
   ]
  },
  {
   "cell_type": "code",
   "execution_count": 23,
   "metadata": {},
   "outputs": [
    {
     "data": {
      "image/png": "[encoded data removed]",
      "text/latex": [
       "$\\displaystyle \\left( - \\frac{p_{\\theta}}{r^{2}}, \\  0\\right)$"
      ],
      "text/plain": [
       "⎛-pₜₕₑₜₐ    ⎞\n",
       "⎜────────, 0⎟\n",
       "⎜    2      ⎟\n",
       "⎝   r       ⎠"
      ]
     },
     "execution_count": 23,
     "metadata": {},
     "output_type": "execute_result"
    }
   ],
   "source": [
    "pupsol[2], momentum[2]"
   ]
  },
  {
   "cell_type": "markdown",
   "metadata": {},
   "source": [
    "De la componente $1$ o $r$ podemos notar que $C_2$ y $C_3$ en la solución del momentum deben ser 0 para que pueda satisfacerse la igualdad, mientras que de la componente $2$ o $\\theta$ damos cuenta que para que $p^{\\theta}$ es 0.\n",
    "\n",
    "Así, las soluciones para el momentum y el spín deben tener la forma:\n",
    "\\begin{align}\n",
    "p_{\\mu} &= \\left[ \\frac{p^{\\phi} \\left(- a^{2} m \\omega + a m - 2 m \\omega r^{2} + \\omega r^{3}\\right)}{m \\left(a^{3} \\omega - a^{2} + 3 a \\omega r^{2} - r^{2}\\right)}, \\  0, \\  0, \\  p^{\\phi}\\right],\\\\\n",
    "S^{\\mu} &= [0,0,\\frac{S}{r},0].\n",
    "\\end{align}"
   ]
  },
  {
   "cell_type": "code",
   "execution_count": 24,
   "metadata": {},
   "outputs": [],
   "source": [
    "del(pphi)\n",
    "pphi = Symbol('p_phi', real=True)\n",
    "\n",
    "pmu=[pphi*a*(r-m)/(m*(a**2-r**2)),0,0,pphi]\n",
    "\n",
    "def t(mu):\n",
    "    termino=0\n",
    "    \n",
    "    for nu in range(4):\n",
    "        for alpha in range(4):\n",
    "            for beta in range(4):\n",
    "                for sigma in range(4):\n",
    "                    for gamma in range(4):\n",
    "                        termino += -lcdown(mu,nu,gamma,sigma)*chris.components[(nu,-alpha,-beta)]*uup[sigma]*uup[alpha]*sup[gamma]*uup[beta]\n",
    "                        \n",
    "    return termino\n",
    "                        \n",
    "\n",
    "Masa2=0\n",
    "for mu in range(4):\n",
    "    Masa2 += pmu[mu]*uup[mu]\n",
    "\n",
    "def p2(mu):\n",
    "    A=Masa2*udown[mu]+t(mu)\n",
    "    return simplify(A.subs(th,pi/2))\n",
    "\n",
    "pmu2=[p2(mu) for mu in range(4)]"
   ]
  },
  {
   "cell_type": "code",
   "execution_count": 25,
   "metadata": {},
   "outputs": [
    {
     "data": {
      "text/plain": [
       "(True, True, True, True)"
      ]
     },
     "execution_count": 25,
     "metadata": {},
     "output_type": "execute_result"
    }
   ],
   "source": [
    "0==pmu[1], pmu[1]==pmu2[1], 0==pmu[2], pmu[2]==pmu2[2]"
   ]
  },
  {
   "cell_type": "markdown",
   "metadata": {},
   "source": [
    "De esta forma probamos que las componentes $r,\\theta$ son iguales luego de aplicar la condición, ahora haremos lo mismo con las componentes $t,\\phi$."
   ]
  },
  {
   "cell_type": "code",
   "execution_count": 26,
   "metadata": {},
   "outputs": [
    {
     "data": {
      "image/png": "[encoded data removed]",
      "text/latex": [
       "$\\displaystyle \\left( \\frac{a p_{\\phi} \\left(- m + r\\right)}{m \\left(a^{2} - r^{2}\\right)}, \\  - \\frac{a \\left(S m \\left(a^{2} - r^{2}\\right) \\left(- 2 a^{2} m \\left(a^{2} + r^{2}\\right) + a^{2} \\left(a^{2} m - r^{3}\\right) + m \\left(a^{2} + r^{2}\\right)^{2}\\right) \\sqrt{\\frac{1}{a^{2} - 2 m r + r^{2}}} - p_{\\phi} r^{4} \\left(m \\left(a^{2} - r^{2}\\right) - \\left(a^{2} + r^{2}\\right) \\left(m - r\\right)\\right)\\right)}{m r^{6} \\left(a^{2} - r^{2}\\right)}\\right)$"
      ],
      "text/plain": [
       "⎛                  ⎛              ⎛                                           \n",
       "⎜                  ⎜    ⎛ 2    2⎞ ⎜     2   ⎛ 2    2⎞    2 ⎛ 2      3⎞     ⎛ 2\n",
       "⎜               -a⋅⎜S⋅m⋅⎝a  - r ⎠⋅⎝- 2⋅a ⋅m⋅⎝a  + r ⎠ + a ⋅⎝a ⋅m - r ⎠ + m⋅⎝a \n",
       "⎜                  ⎜                                                          \n",
       "⎜a⋅pᵩ⋅(-m + r)     ⎝                                                          \n",
       "⎜─────────────, ──────────────────────────────────────────────────────────────\n",
       "⎜   ⎛ 2    2⎞                                                                 \n",
       "⎝ m⋅⎝a  - r ⎠                                                                 \n",
       "\n",
       "      2⎞      _________________                                          ⎞ ⎞\n",
       "    2⎞ ⎟     ╱        1               4 ⎛  ⎛ 2    2⎞   ⎛ 2    2⎞        ⎞⎟ ⎟\n",
       " + r ⎠ ⎠⋅   ╱  ───────────────  - pᵩ⋅r ⋅⎝m⋅⎝a  - r ⎠ - ⎝a  + r ⎠⋅(m - r)⎠⎟ ⎟\n",
       "           ╱    2            2                                           ⎟ ⎟\n",
       "         ╲╱    a  - 2⋅m⋅r + r                                            ⎠ ⎟\n",
       "───────────────────────────────────────────────────────────────────────────⎟\n",
       "   6 ⎛ 2    2⎞                                                             ⎟\n",
       "m⋅r ⋅⎝a  - r ⎠                                                             ⎠"
      ]
     },
     "execution_count": 26,
     "metadata": {},
     "output_type": "execute_result"
    }
   ],
   "source": [
    "pmu[0],simplify(pmu2[0])"
   ]
  },
  {
   "cell_type": "code",
   "execution_count": 27,
   "metadata": {},
   "outputs": [
    {
     "data": {
      "image/png": "[encoded data removed]",
      "text/latex": [
       "$\\displaystyle \\left( p_{\\phi}, \\  \\frac{S m \\left(a^{2} - r^{2}\\right) \\left(a^{2} + r^{2}\\right) \\left(- 2 a^{2} m \\left(a^{2} + r^{2}\\right) + a^{2} \\left(a^{2} m - r^{3}\\right) + m \\left(a^{2} + r^{2}\\right)^{2}\\right) \\sqrt{\\frac{1}{a^{2} - 2 m r + r^{2}}} - a^{2} p_{\\phi} r^{4} \\left(m \\left(a^{2} - r^{2}\\right) - \\left(a^{2} + r^{2}\\right) \\left(m - r\\right)\\right)}{m r^{6} \\left(a^{2} - r^{2}\\right)}\\right)$"
      ],
      "text/plain": [
       "⎛                            ⎛                                                \n",
       "⎜        ⎛ 2    2⎞ ⎛ 2    2⎞ ⎜     2   ⎛ 2    2⎞    2 ⎛ 2      3⎞     ⎛ 2    2\n",
       "⎜    S⋅m⋅⎝a  - r ⎠⋅⎝a  + r ⎠⋅⎝- 2⋅a ⋅m⋅⎝a  + r ⎠ + a ⋅⎝a ⋅m - r ⎠ + m⋅⎝a  + r \n",
       "⎜                                                                             \n",
       "⎜                                                                             \n",
       "⎜pᵩ, ─────────────────────────────────────────────────────────────────────────\n",
       "⎜                                                                        6 ⎛ 2\n",
       "⎝                                                                     m⋅r ⋅⎝a \n",
       "\n",
       " 2⎞      _________________                                             ⎞\n",
       "⎞ ⎟     ╱        1            2     4 ⎛  ⎛ 2    2⎞   ⎛ 2    2⎞        ⎞⎟\n",
       "⎠ ⎠⋅   ╱  ───────────────  - a ⋅pᵩ⋅r ⋅⎝m⋅⎝a  - r ⎠ - ⎝a  + r ⎠⋅(m - r)⎠⎟\n",
       "      ╱    2            2                                              ⎟\n",
       "    ╲╱    a  - 2⋅m⋅r + r                                               ⎟\n",
       "───────────────────────────────────────────────────────────────────────⎟\n",
       "    2⎞                                                                 ⎟\n",
       " - r ⎠                                                                 ⎠"
      ]
     },
     "execution_count": 27,
     "metadata": {},
     "output_type": "execute_result"
    }
   ],
   "source": [
    "pmu[3],simplify(pmu2[3])"
   ]
  },
  {
   "cell_type": "code",
   "execution_count": 28,
   "metadata": {},
   "outputs": [
    {
     "data": {
      "image/png": "[encoded data removed]",
      "text/latex": [
       "$\\displaystyle \\left\\{ S : \\frac{p_{\\phi} r^{2}}{m \\left(- a^{2} + r^{2}\\right) \\sqrt{\\frac{1}{a^{2} - 2 m r + r^{2}}}}\\right\\}$"
      ],
      "text/plain": [
       "⎧                      2                ⎫\n",
       "⎪                  pᵩ⋅r                 ⎪\n",
       "⎪S: ────────────────────────────────────⎪\n",
       "⎪                      _________________⎪\n",
       "⎨     ⎛   2    2⎞     ╱        1        ⎬\n",
       "⎪   m⋅⎝- a  + r ⎠⋅   ╱  ─────────────── ⎪\n",
       "⎪                   ╱    2            2 ⎪\n",
       "⎪                 ╲╱    a  - 2⋅m⋅r + r  ⎪\n",
       "⎩                                       ⎭"
      ]
     },
     "execution_count": 28,
     "metadata": {},
     "output_type": "execute_result"
    }
   ],
   "source": [
    "eq1=pmu[0]-simplify(pmu2[0])\n",
    "eq2=pmu[3]-simplify(pmu2[3])\n",
    "eqtotal=[eq1,eq2]\n",
    "\n",
    "solve(eqtotal,[S,pphi])"
   ]
  },
  {
   "cell_type": "markdown",
   "metadata": {},
   "source": [
    "Mostrando así que la componente $\\phi$ del momentum y la componente $\\theta$ del espín están relacionados como:"
   ]
  }
 ],
 "metadata": {
  "anaconda-cloud": {},
  "kernelspec": {
   "display_name": "Python 3",
   "language": "python",
   "name": "python3"
  },
  "language_info": {
   "codemirror_mode": {
    "name": "ipython",
    "version": 3
   },
   "file_extension": ".py",
   "mimetype": "text/x-python",
   "name": "python",
   "nbconvert_exporter": "python",
   "pygments_lexer": "ipython3",
   "version": "3.7.4"
  }
 },
 "nbformat": 4,
 "nbformat_minor": 2
}
