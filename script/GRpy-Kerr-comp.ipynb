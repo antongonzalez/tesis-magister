{
 "cells": [
  {
   "cell_type": "code",
   "execution_count": 1,
   "metadata": {},
   "outputs": [],
   "source": [
    "from numpy import *\n",
    "from GRpy.all import *\n",
    "init_printing()\n",
    "#init_printing(use_latex='mathjax')"
   ]
  },
  {
   "cell_type": "code",
   "execution_count": 2,
   "metadata": {},
   "outputs": [],
   "source": [
    "t, x0, r, th, phi = symbols('t, x^0, R, theta, varphi', positive=True, real=True)\n",
    "m, a, M = symbols('m, a, M', positive = True)\n",
    "S = Symbol('S', real=True)"
   ]
  },
  {
   "cell_type": "code",
   "execution_count": 3,
   "metadata": {},
   "outputs": [],
   "source": [
    "sigma = r**2 + (a*cos(th))**2\n",
    "delta = r**2 - 2*m*r + a**2"
   ]
  },
  {
   "cell_type": "code",
   "execution_count": 4,
   "metadata": {},
   "outputs": [],
   "source": [
    "g = Metric((x0, r, th, phi))\n",
    "g[-0,-0] = (1-(2*m*r/sigma))\n",
    "g[-0,-1] = 0\n",
    "g[-0,-2] = 0\n",
    "g[-0,-3] = (2*a*m*r*sin(th)**2)/sigma\n",
    "g[-1,-0] = 0\n",
    "g[-1,-1] = -sigma/delta\n",
    "g[-1,-2] = 0\n",
    "g[-1,-3] = 0\n",
    "g[-2,-0] = 0\n",
    "g[-2,-1] = 0\n",
    "g[-2,-2] = -sigma\n",
    "g[-2,-3] = 0\n",
    "g[-3,-0] = (2*a*m*r*sin(th)**2)/sigma\n",
    "g[-3,-1] = 0\n",
    "g[-3,-2] = 0\n",
    "g[-3,-3] = -(r**2 +a**2 + (2*a**2*m*r*sin(th)**2)/sigma)*sin(th)**2"
   ]
  },
  {
   "cell_type": "code",
   "execution_count": 5,
   "metadata": {},
   "outputs": [],
   "source": [
    "ginv = g.invert()\n",
    "chris = Christoffel(g)"
   ]
  },
  {
   "cell_type": "code",
   "execution_count": 6,
   "metadata": {},
   "outputs": [],
   "source": [
    "def dw(A,mu):\n",
    "    downvector=0\n",
    "    for nu in range(4):\n",
    "        downvector += g.components[(-mu,-nu)]*A[nu]\n",
    "    \n",
    "    return simplify(downvector.subs(th,pi/2))\n",
    "\n",
    "def down(A):\n",
    "    return [dw(A,mu) for mu in range(4)]"
   ]
  },
  {
   "cell_type": "code",
   "execution_count": 7,
   "metadata": {},
   "outputs": [],
   "source": [
    "pup = [M*(m+r)/sqrt(r**2+a**2-2*m*r), 0, 0, M*m/(a*sqrt(r**2+a**2-2*m*r))]\n",
    "sup = [0, 0, -M*r/a, 0]\n",
    "uup = [(a**2+r**2)/(r*sqrt(a**2+r**2-2*m*r)), 0, 0, a/(r*sqrt(a**2+r**2-2*m*r))]\n",
    "pdown = down(pup)\n",
    "sdown = down(sup)\n",
    "udown = down(uup)\n",
    "\n",
    "def lcup(i,j,k,l):\n",
    "    return -LeviCivita(i,j,k,l)/(r**2)\n",
    "\n",
    "def tensorspin(mu,nu):\n",
    "    tensorspin=0\n",
    "    for rho in range(4):\n",
    "        for delta in range(4):\n",
    "            tensorspin+=lcup(mu,nu,rho,delta)*sdown[rho]*udown[delta]\n",
    "            \n",
    "    return simplify(tensorspin)\n",
    "\n",
    "def pint(A,B):\n",
    "    pint=0\n",
    "    for mu in range(4):\n",
    "        pint += A[mu]*B[mu]\n",
    "        \n",
    "    return simplify(pint)\n",
    "\n",
    "masap = sqrt(pint(pup,pdown))"
   ]
  },
  {
   "cell_type": "code",
   "execution_count": 8,
   "metadata": {},
   "outputs": [
    {
     "data": {
      "image/png": "[encoded data removed]",
      "text/latex": [
       "$$\\left [ \\frac{M \\left(R - m\\right)}{\\sqrt{R^{2} - 2 R m + a^{2}}}, \\quad 0, \\quad 0, \\quad \\frac{M m \\left(- R^{2} + a^{2}\\right)}{a \\sqrt{R^{2} - 2 R m + a^{2}}}\\right ]$$"
      ],
      "text/plain": [
       "⎡                                   ⎛   2    2⎞    ⎤\n",
       "⎢     M⋅(R - m)                 M⋅m⋅⎝- R  + a ⎠    ⎥\n",
       "⎢────────────────────, 0, 0, ──────────────────────⎥\n",
       "⎢   _________________             _________________⎥\n",
       "⎢  ╱  2            2             ╱  2            2 ⎥\n",
       "⎣╲╱  R  - 2⋅R⋅m + a          a⋅╲╱  R  - 2⋅R⋅m + a  ⎦"
      ]
     },
     "execution_count": 8,
     "metadata": {},
     "output_type": "execute_result"
    }
   ],
   "source": [
    "pdown"
   ]
  },
  {
   "cell_type": "code",
   "execution_count": 9,
   "metadata": {},
   "outputs": [
    {
     "data": {
      "image/png": "[encoded data removed]",
      "text/latex": [
       "$$\\frac{M \\left(R m + R \\left(R + m\\right) \\sqrt{R^{2} - 2 R m + a^{2}} - m \\left(R^{2} - 2 R m + a^{2}\\right)\\right)}{R^{2} \\sqrt{R^{2} - 2 R m + a^{2}}}$$"
      ],
      "text/plain": [
       "  ⎛                   _________________                      ⎞\n",
       "  ⎜                  ╱  2            2      ⎛ 2            2⎞⎟\n",
       "M⋅⎝R⋅m + R⋅(R + m)⋅╲╱  R  - 2⋅R⋅m + a   - m⋅⎝R  - 2⋅R⋅m + a ⎠⎠\n",
       "──────────────────────────────────────────────────────────────\n",
       "                         _________________                    \n",
       "                    2   ╱  2            2                     \n",
       "                   R ⋅╲╱  R  - 2⋅R⋅m + a                      "
      ]
     },
     "execution_count": 9,
     "metadata": {},
     "output_type": "execute_result"
    }
   ],
   "source": [
    "E = sqrt(delta/sigma)*pup[0] + a*sin(th)/sqrt(sigma)*pup[3] + m*(r**2-a**2*cos(th)**2)*tensorspin(1,0)/(sigma**2)\n",
    "Energia = simplify(E.subs(th,pi/2.))\n",
    "Energia"
   ]
  },
  {
   "cell_type": "code",
   "execution_count": 10,
   "metadata": {},
   "outputs": [
    {
     "data": {
      "image/png": "[encoded data removed]",
      "text/latex": [
       "$$\\frac{R a \\left(R^{2} + a^{2}\\right) \\left(a^{2} - m^{2}\\right) \\sqrt{R^{2} - 2 R m + a^{2}} + R a \\left(R^{2} + a^{2}\\right) \\left(a^{2} - m^{2}\\right) \\left(R^{2} - 2 R m + a^{2}\\right) - R \\sqrt{\\frac{a^{2} - m^{2}}{R^{2} - 2 R m + a^{2}}} \\left(R^{2} - 2 R m + a^{2}\\right)^{3} - a^{2} \\sqrt{\\frac{a^{2} - m^{2}}{R^{2} - 2 R m + a^{2}}} \\left(R + m\\right) \\left(R^{2} - 2 R m + a^{2}\\right)^{\\frac{5}{2}}}{R^{3} \\left(a^{2} - m^{2}\\right) \\left(R^{2} - 2 R m + a^{2}\\right)}$$"
      ],
      "text/plain": [
       "                                                                              \n",
       "                           _________________                                  \n",
       "    ⎛ 2    2⎞ ⎛ 2    2⎞   ╱  2            2        ⎛ 2    2⎞ ⎛ 2    2⎞ ⎛ 2    \n",
       "R⋅a⋅⎝R  + a ⎠⋅⎝a  - m ⎠⋅╲╱  R  - 2⋅R⋅m + a   + R⋅a⋅⎝R  + a ⎠⋅⎝a  - m ⎠⋅⎝R  - 2\n",
       "                                                                              \n",
       "                                                                              \n",
       "──────────────────────────────────────────────────────────────────────────────\n",
       "                                                                              \n",
       "                                                                              \n",
       "\n",
       "                     _________________                               _________\n",
       "                    ╱      2    2                       3           ╱      2  \n",
       "        2⎞         ╱      a  - m       ⎛ 2            2⎞     2     ╱      a  -\n",
       "⋅R⋅m + a ⎠ - R⋅   ╱   ─────────────── ⋅⎝R  - 2⋅R⋅m + a ⎠  - a ⋅   ╱   ────────\n",
       "                 ╱     2            2                            ╱     2      \n",
       "               ╲╱     R  - 2⋅R⋅m + a                           ╲╱     R  - 2⋅R\n",
       "──────────────────────────────────────────────────────────────────────────────\n",
       "     3 ⎛ 2    2⎞ ⎛ 2            2⎞                                            \n",
       "    R ⋅⎝a  - m ⎠⋅⎝R  - 2⋅R⋅m + a ⎠                                            \n",
       "\n",
       "________                             \n",
       "  2                               5/2\n",
       " m               ⎛ 2            2⎞   \n",
       "─────── ⋅(R + m)⋅⎝R  - 2⋅R⋅m + a ⎠   \n",
       "      2                              \n",
       "⋅m + a                               \n",
       "─────────────────────────────────────\n",
       "                                     \n",
       "                                     "
      ]
     },
     "execution_count": 10,
     "metadata": {},
     "output_type": "execute_result"
    }
   ],
   "source": [
    "J = a*sin(th)**2*sqrt(delta/sigma)*uup[0] + ((r**2+a**2)*sin(th)/sqrt(sigma))*uup[3] + a*sin(th)**2*((r-m)*sigma+2*m*r**2)*tensorspin(1,0)/(sigma**2*masap) + r*sqrt(delta)*sin(th)*tensorspin(1,3)/(sigma*masap)\n",
    "MomentoAngular = simplify(J.subs(th,pi/2.))\n",
    "MomentoAngular"
   ]
  }
 ],
 "metadata": {
  "anaconda-cloud": {},
  "kernelspec": {
   "display_name": "Python 3",
   "language": "python",
   "name": "python3"
  },
  "language_info": {
   "codemirror_mode": {
    "name": "ipython",
    "version": 3
   },
   "file_extension": ".py",
   "mimetype": "text/x-python",
   "name": "python",
   "nbconvert_exporter": "python",
   "pygments_lexer": "ipython3",
   "version": "3.7.1"
  }
 },
 "nbformat": 4,
 "nbformat_minor": 2
}
