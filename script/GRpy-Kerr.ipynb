{
 "cells": [
  {
   "cell_type": "code",
   "execution_count": 19,
   "metadata": {},
   "outputs": [],
   "source": [
    "from numpy import *\n",
    "from GRpy.all import *\n",
    "init_printing()\n",
    "#init_printing(use_latex='mathjax')"
   ]
  },
  {
   "cell_type": "code",
   "execution_count": 20,
   "metadata": {},
   "outputs": [],
   "source": [
    "t, x0, r, th, phi = symbols('t, x^0, r, theta, varphi',positive=True , real=True)\n",
    "m,a = symbols('m,a', positive = True)\n",
    "ut, uphi = symbols('u_t, u_phi', real=True)\n",
    "p3, sp2 = symbols(r'p^{\\phi}, S^{\\theta}', real=True)\n",
    "M = Symbol('M', real=True)\n",
    "\n",
    "s = Symbol('s', real=True)\n",
    "\n",
    "pt = Function(r'p^t')(s)\n",
    "pr = Function(r'p^r')(s)\n",
    "ptheta = Function(r'p^{\\theta}')(s)\n",
    "pphi = Function(r'p^{\\phi}')(s)\n",
    "\n",
    "st = Function(r'S^t')(s)\n",
    "sr = Function(r'S^r')(s)\n",
    "stheta = Function(r'S^{\\theta}')(s)\n",
    "sphi = Function(r'S^{\\phi}')(s)"
   ]
  },
  {
   "cell_type": "code",
   "execution_count": 21,
   "metadata": {},
   "outputs": [],
   "source": [
    "sigma = r**2 + (a*cos(th))**2\n",
    "delta = r**2 - 2*m*r + a**2"
   ]
  },
  {
   "cell_type": "code",
   "execution_count": 22,
   "metadata": {},
   "outputs": [],
   "source": [
    "g = Metric((x0, r, th, phi))\n",
    "g[-0,-0] = (1-(2*m*r/sigma))\n",
    "g[-0,-1] = 0\n",
    "g[-0,-2] = 0\n",
    "g[-0,-3] = (2*a*m*r*sin(th)**2)/sigma\n",
    "g[-1,-0] = 0\n",
    "g[-1,-1] = -sigma/delta\n",
    "g[-1,-2] = 0\n",
    "g[-1,-3] = 0\n",
    "g[-2,-0] = 0\n",
    "g[-2,-1] = 0\n",
    "g[-2,-2] = -sigma\n",
    "g[-2,-3] = 0\n",
    "g[-3,-0] = (2*a*m*r*sin(th)**2)/sigma\n",
    "g[-3,-1] = 0\n",
    "g[-3,-2] = 0\n",
    "g[-3,-3] = -(r**2 +a**2 + (2*a**2*m*r*sin(th)**2)/sigma)*sin(th)**2"
   ]
  },
  {
   "cell_type": "code",
   "execution_count": 23,
   "metadata": {},
   "outputs": [],
   "source": [
    "ginv = g.invert()"
   ]
  },
  {
   "cell_type": "code",
   "execution_count": 24,
   "metadata": {},
   "outputs": [],
   "source": [
    "chris = Christoffel(g)"
   ]
  },
  {
   "cell_type": "code",
   "execution_count": 25,
   "metadata": {},
   "outputs": [],
   "source": [
    "def dw(A,mu):\n",
    "    downvector=0\n",
    "    for nu in range(4):\n",
    "        downvector += g.components[(-mu,-nu)]*A[nu]\n",
    "    \n",
    "    return simplify(downvector.subs(th,pi/2))\n",
    "\n",
    "def down(A):\n",
    "    return [dw(A,mu) for mu in range(4)]"
   ]
  },
  {
   "cell_type": "code",
   "execution_count": 26,
   "metadata": {},
   "outputs": [],
   "source": [
    "sup=[st,sr,stheta,sphi]\n",
    "pup=[pt,pr,ptheta,pphi]"
   ]
  },
  {
   "cell_type": "code",
   "execution_count": 28,
   "metadata": {},
   "outputs": [],
   "source": [
    "uphi=a/(a**2+r**2)*ut\n",
    "uupnonorm=[ut,0,0,uphi]\n",
    "\n",
    "N=0\n",
    "for i in range(4):\n",
    "    for j in range(4):\n",
    "        N += g.components[(-i,-j)]*uupnonorm[i]*uupnonorm[j]\n",
    "        \n",
    "eq=1-N.subs(th,pi/2)\n",
    "\n",
    "utnorm=solve(eq,ut)[1]\n",
    "uphinorm=a/(a**2+r**2)*utnorm\n",
    "uup=[utnorm,0,0,uphinorm]\n",
    "udown=down(uup)"
   ]
  },
  {
   "cell_type": "code",
   "execution_count": 65,
   "metadata": {},
   "outputs": [
    {
     "data": {
      "image/png": "[encoded data removed]",
      "text/latex": [
       "$$\\left [ \\frac{\\left(a^{2} - 2 m r + r^{2}\\right) \\sqrt{\\frac{1}{a^{2} - 2 m r + r^{2}}}}{r}, \\quad 0, \\quad 0, \\quad - \\frac{a \\left(a^{2} - 2 m r + r^{2}\\right) \\sqrt{\\frac{1}{a^{2} - 2 m r + r^{2}}}}{r}\\right ]$$"
      ],
      "text/plain": [
       "⎡                       _________________                                  ___\n",
       "⎢⎛ 2            2⎞     ╱        1                   ⎛ 2            2⎞     ╱   \n",
       "⎢⎝a  - 2⋅m⋅r + r ⎠⋅   ╱  ───────────────         -a⋅⎝a  - 2⋅m⋅r + r ⎠⋅   ╱  ──\n",
       "⎢                    ╱    2            2                                ╱    2\n",
       "⎢                  ╲╱    a  - 2⋅m⋅r + r                               ╲╱    a \n",
       "⎢────────────────────────────────────────, 0, 0, ─────────────────────────────\n",
       "⎣                   r                                                 r       \n",
       "\n",
       "______________ ⎤\n",
       "     1         ⎥\n",
       "─────────────  ⎥\n",
       "            2  ⎥\n",
       " - 2⋅m⋅r + r   ⎥\n",
       "───────────────⎥\n",
       "               ⎦"
      ]
     },
     "execution_count": 65,
     "metadata": {},
     "output_type": "execute_result"
    }
   ],
   "source": [
    "udown"
   ]
  },
  {
   "cell_type": "code",
   "execution_count": 29,
   "metadata": {},
   "outputs": [],
   "source": [
    "def ch(mu):\n",
    "    ch=0\n",
    "    for i in range(4):\n",
    "        for j in range(4):\n",
    "            ch += chris.components[(mu,-i,-j)]*uup[i]*pup[j]\n",
    "        \n",
    "    return ch\n",
    "\n",
    "def dpmu(mu):\n",
    "    A=simplify(ch(mu).subs(th,pi/2))\n",
    "    return diff(pup[mu],s)+A\n",
    "\n",
    "dpmu=[dpmu(0),dpmu(1),dpmu(2),dpmu(3)]"
   ]
  },
  {
   "cell_type": "code",
   "execution_count": 30,
   "metadata": {},
   "outputs": [],
   "source": [
    "sdown=down(sup)\n",
    "\n",
    "c2=0\n",
    "for i in range(4):\n",
    "    for j in range(4):\n",
    "        for k in range(4):\n",
    "            c2 += chris.components[(i,-j,-k)]*sdown[i]*uup[j]*uup[k]\n",
    "            \n",
    "def c3(mu):\n",
    "    c=0\n",
    "    for i in range(4):\n",
    "        for j in range(4):\n",
    "            c += chris.components[(mu,-i,-j)]*sup[i]*uup[j]\n",
    "    \n",
    "    return c\n",
    "\n",
    "def dsmu(mu):\n",
    "    A=c3(mu)+uup[mu]*c2\n",
    "    B=simplify(A.subs(th,pi/2))\n",
    "    return diff(sup[mu],s)+B\n",
    "    \n",
    "dsmu=[dsmu(0),dsmu(1),dsmu(2),dsmu(3)]"
   ]
  },
  {
   "cell_type": "code",
   "execution_count": 31,
   "metadata": {},
   "outputs": [],
   "source": [
    "dpmu2=[dpmu[0],dpmu[1],dpmu[3]]\n",
    "psol=dsolve(dpmu2)\n",
    "\n",
    "dsmu2=[dsmu[0],dsmu[1],dsmu[3]]\n",
    "ssol=dsolve(dsmu2)"
   ]
  },
  {
   "cell_type": "code",
   "execution_count": 38,
   "metadata": {},
   "outputs": [
    {
     "name": "stdout",
     "output_type": "stream",
     "text": [
      "la condicion a satisfacer es: C1*a*(a**2 - 2*m*r + r**2)*sqrt(1/(a**2 - 2*m*r + r**2))/m\n"
     ]
    }
   ],
   "source": [
    "supsol = [ssol[0].rhs,ssol[1].rhs,sp2,ssol[2].rhs]\n",
    "\n",
    "condicion=0\n",
    "for i in range(4):\n",
    "    condicion += supsol[i]*udown[i]\n",
    "\n",
    "print('la condicion a satisfacer es:',simplify(condicion))"
   ]
  },
  {
   "cell_type": "code",
   "execution_count": 39,
   "metadata": {},
   "outputs": [],
   "source": [
    "pupsol = [psol[0].rhs, psol[1].rhs ,p3, psol[2].rhs]\n",
    "sdownsol=down(supsol)"
   ]
  },
  {
   "cell_type": "code",
   "execution_count": 40,
   "metadata": {},
   "outputs": [],
   "source": [
    "def lcup(i,j,k,l):\n",
    "    return LeviCivita(i,j,k,l)/(r**2)\n",
    "\n",
    "def termino(mu):\n",
    "    termino=0\n",
    "    for nu in range(4):\n",
    "        for alpha in range(4):\n",
    "            for beta in range(4):\n",
    "                for sigma in range(4):\n",
    "                    for rho in range(4):\n",
    "                        termino += lcup(mu,nu,alpha,beta)*chris.components[(rho,-nu,-sigma)]*udown[rho]*uup[sigma]*sdownsol[beta]*udown[alpha]\n",
    "                        \n",
    "    return termino\n",
    "\n",
    "Masa=0\n",
    "for mu in range(4):\n",
    "    Masa += pupsol[mu]*udown[mu]\n",
    "\n",
    "def p(mu):\n",
    "    A=Masa*uup[mu]+termino(mu)\n",
    "    return simplify(A.subs(th,pi/2))\n",
    "\n",
    "momentum=[p(mu) for mu in range(4)]"
   ]
  },
  {
   "cell_type": "code",
   "execution_count": 43,
   "metadata": {},
   "outputs": [
    {
     "name": "stdout",
     "output_type": "stream",
     "text": [
      "C2*sqrt((-a**2 + m**2)/(a**2 - 2*m*r + r**2))*(-a**4 + 4*a**2*m*r - 2*a**2*r**2 - 4*m**2*r**2 + 4*m*r**3 - r**4)*sqrt(1/(a**2 - 2*m*r + r**2))*exp(s*sqrt((-a**2 + m**2)/(a**2 - 2*m*r + r**2))/r)/(a*(-m + r)) + C3*sqrt((-a**2 + m**2)/(a**2 - 2*m*r + r**2))*(a**4 - 4*a**2*m*r + 2*a**2*r**2 + 4*m**2*r**2 - 4*m*r**3 + r**4)*sqrt(1/(a**2 - 2*m*r + r**2))*exp(-s*sqrt(-(a**2 - m**2)/(a**2 - 2*m*r + r**2))/r)/(a*(-m + r)) 0\n"
     ]
    }
   ],
   "source": [
    "print(pupsol[1], momentum[1])"
   ]
  },
  {
   "cell_type": "code",
   "execution_count": 44,
   "metadata": {},
   "outputs": [
    {
     "name": "stdout",
     "output_type": "stream",
     "text": [
      "p^{\\phi} (C1*a**4 - 2*C1*a**2*m*r + C1*m**2*r**2 - C2*a**2*m*r*cos(a*s/r**2) + C2*m**2*r**2*cos(a*s/r**2) - C3*a**2*m*r*sin(a*s/r**2) + C3*m**2*r**2*sin(a*s/r**2))*sqrt(1/(a**2 - 2*m*r + r**2))/(m*r**3)\n"
     ]
    }
   ],
   "source": [
    "print(pupsol[2], momentum[2])"
   ]
  },
  {
   "cell_type": "markdown",
   "metadata": {},
   "source": [
    "De la componente $1$ o $r$ podemos notar que $C_2$ y $C_3$ en la solución del momentum deben ser 0 para que pueda satisfacerse la igualdad, mientras que de la componente $2$ o $\\theta$ damos cuenta que para que $p^2$ sea constante, entonces $C_2$ y $C_3$ del spin deben ser $0$, ya que por la condición de ortogonalidad entre la cuadri-velocidad y el cuadri-spin $C_1$ ya es $0$.\n",
    "\n",
    "Así, las soluciones para el momentum y el spín deben tener la forma:\n",
    "\\begin{align}\n",
    "p^{\\mu} &= [p^{\\phi} \\frac{a(m+r)}{m}, 0, 0, p^{\\phi}],\\\\\n",
    "S^{\\mu} &= [0,0,S^{\\theta},0].\n",
    "\\end{align}"
   ]
  },
  {
   "cell_type": "code",
   "execution_count": 45,
   "metadata": {},
   "outputs": [],
   "source": [
    "pmu=[p3*a*(m+r)/m,0,0,p3]\n",
    "smu=[0,0,sp2,0]\n",
    "smudown=down(smu)\n",
    "\n",
    "def t(mu):\n",
    "    termino=0\n",
    "    \n",
    "    for nu in range(4):\n",
    "        for alpha in range(4):\n",
    "            for beta in range(4):\n",
    "                for sigma in range(4):\n",
    "                    for rho in range(4):\n",
    "                        termino += lcup(mu,nu,alpha,beta)*chris.components[(rho,-nu,-sigma)]*udown[rho]*uup[sigma]*smudown[beta]*udown[alpha]\n",
    "                        \n",
    "    return termino\n",
    "                        \n",
    "\n",
    "Masa2=0\n",
    "for mu in range(4):\n",
    "    Masa2 += pmu[mu]*udown[mu]\n",
    "\n",
    "def p2(mu):\n",
    "    A=Masa2*uup[mu]+t(mu)\n",
    "    return simplify(A.subs(th,pi/2))\n",
    "\n",
    "pmu2=[p2(mu) for mu in range(4)]"
   ]
  },
  {
   "cell_type": "code",
   "execution_count": 46,
   "metadata": {},
   "outputs": [
    {
     "data": {
      "text/plain": [
       "(True, True, True, True)"
      ]
     },
     "execution_count": 46,
     "metadata": {},
     "output_type": "execute_result"
    }
   ],
   "source": [
    "0==pmu[1], pmu[1]==pmu2[1], 0==pmu[2], pmu[2]==pmu2[2]"
   ]
  },
  {
   "cell_type": "code",
   "execution_count": 49,
   "metadata": {},
   "outputs": [
    {
     "name": "stdout",
     "output_type": "stream",
     "text": [
      "a*p^{\\phi}*(m + r)/m S^{\\theta}*a**3*sqrt(1/(a**2 - 2*m*r + r**2))/r**2 - S^{\\theta}*a*m*sqrt(1/(a**2 - 2*m*r + r**2))/r + a**3*p^{\\phi}/(m*r) + a*p^{\\phi}*r/m\n"
     ]
    }
   ],
   "source": [
    "print(pmu[0],simplify(pmu2[0]))"
   ]
  },
  {
   "cell_type": "code",
   "execution_count": 50,
   "metadata": {},
   "outputs": [
    {
     "name": "stdout",
     "output_type": "stream",
     "text": [
      "p^{\\phi} S^{\\theta}*a**2*sqrt(1/(a**2 - 2*m*r + r**2))/r**2 - S^{\\theta}*m*sqrt(1/(a**2 - 2*m*r + r**2))/r + a**2*p^{\\phi}/(m*r)\n"
     ]
    }
   ],
   "source": [
    "print(pmu[3],simplify(pmu2[3]))"
   ]
  },
  {
   "cell_type": "code",
   "execution_count": 54,
   "metadata": {},
   "outputs": [
    {
     "name": "stdout",
     "output_type": "stream",
     "text": [
      "{S^{\\theta}: -p^{\\phi}*r/(m*sqrt(1/(a**2 - 2*m*r + r**2)))}\n"
     ]
    }
   ],
   "source": [
    "eq1=pmu[0]-simplify(pmu2[0])\n",
    "eq2=pmu[3]-simplify(pmu2[3])\n",
    "eqtotal=[eq1,eq2]\n",
    "\n",
    "print(solve(eqtotal,[sp2,p3]))"
   ]
  },
  {
   "cell_type": "code",
   "execution_count": 55,
   "metadata": {},
   "outputs": [
    {
     "data": {
      "image/png": "[encoded data removed]",
      "text/latex": [
       "$$\\frac{a p^{\\phi} \\left(m + r\\right)}{m}$$"
      ],
      "text/plain": [
       "a⋅p__{\\phi}⋅(m + r)\n",
       "───────────────────\n",
       "         m         "
      ]
     },
     "execution_count": 55,
     "metadata": {},
     "output_type": "execute_result"
    }
   ],
   "source": [
    "simplify(pmu2[0].subs(sp2,spin))"
   ]
  },
  {
   "cell_type": "markdown",
   "metadata": {},
   "source": [
    "De esta forma, encontramos que la única solución posible es:\n",
    "\\begin{align}\n",
    "p^{\\mu} &= \\left[ p^{\\phi} \\frac{a(m+r)}{m},\\quad 0,\\quad 0,\\quad p^{\\phi} \\right],\\\\\n",
    "S^{\\mu} &= \\left[0,\\quad 0,\\quad -\\frac{p^{\\phi} \\sqrt{a^2+r^2-2mr}}{mr},\\quad 0\\right].\n",
    "\\end{align}"
   ]
  },
  {
   "cell_type": "code",
   "execution_count": 56,
   "metadata": {},
   "outputs": [
    {
     "name": "stdout",
     "output_type": "stream",
     "text": [
      "[-S^{\\theta}*a*(m + r)*sqrt(1/(a**2 - 2*m*r + r**2))/r, 0, 0, -S^{\\theta}*m*sqrt(1/(a**2 - 2*m*r + r**2))/r]\n"
     ]
    }
   ],
   "source": [
    "p=solve(eq,p3)[0]\n",
    "\n",
    "pmu = [p*a*(m+r)/m,0,0,p]\n",
    "print(pmu)"
   ]
  },
  {
   "cell_type": "code",
   "execution_count": 61,
   "metadata": {},
   "outputs": [
    {
     "name": "stdout",
     "output_type": "stream",
     "text": [
      "-S^{\\theta}*a/r\n"
     ]
    }
   ],
   "source": [
    "masaspin = 0\n",
    "for mu in range(4):\n",
    "    masaspin += pmu[mu]*udown[mu]\n",
    "    \n",
    "print(simplify(masaspin))"
   ]
  },
  {
   "cell_type": "markdown",
   "metadata": {},
   "source": [
    "Escribiendo dicha solución en términos de $S$ se tiene que:\n",
    "\\begin{align}\n",
    "p^{\\mu} &= \\left [ - \\frac{S^{\\theta} a \\left(m + r\\right) \\sqrt{\\frac{1}{a^{2} - 2 m r + r^{2}}}}{r}, \\quad 0, \\quad 0, \\quad - \\frac{S^{\\theta} m \\sqrt{\\frac{1}{a^{2} - 2 m r + r^{2}}}}{r}\\right ],\\\\\n",
    "S^{\\mu} &= \\left [ 0, \\quad 0, \\quad S^{\\theta}, \\quad 0\\right ].\n",
    "\\end{align}"
   ]
  },
  {
   "cell_type": "code",
   "execution_count": 62,
   "metadata": {},
   "outputs": [
    {
     "data": {
      "text/plain": [
       "True"
      ]
     },
     "execution_count": 62,
     "metadata": {},
     "output_type": "execute_result"
    }
   ],
   "source": [
    "spin2=spin\n",
    "\n",
    "pmu =[p3*a*(m+r)/m,0,0,p3]\n",
    "smu=[0,0,spin2,0]\n",
    "smudown=down(smu)\n",
    "\n",
    "def t(mu):\n",
    "    termino=0\n",
    "    \n",
    "    for nu in range(4):\n",
    "        for alpha in range(4):\n",
    "            for beta in range(4):\n",
    "                for sigma in range(4):\n",
    "                    for rho in range(4):\n",
    "                        termino += lcup(mu,nu,alpha,beta)*chris.components[(rho,-nu,-sigma)]*udown[rho]*uup[sigma]*smudown[beta]*udown[alpha]\n",
    "                        \n",
    "    return termino\n",
    "                        \n",
    "\n",
    "Masa3=0\n",
    "for mu in range(4):\n",
    "    Masa3 += pmu[mu]*udown[mu]\n",
    "\n",
    "def p4(mu):\n",
    "    A=Masa3*uup[mu]+t(mu)\n",
    "    return simplify(A.subs(th,pi/2))\n",
    "\n",
    "pmu3=[p4(mu) for mu in range(4)]\n",
    "\n",
    "pmu==pmu3"
   ]
  },
  {
   "cell_type": "code",
   "execution_count": 63,
   "metadata": {},
   "outputs": [
    {
     "name": "stdout",
     "output_type": "stream",
     "text": [
      "[M*(m + r)/((a**2 - 2*m*r + r**2)*sqrt(1/(a**2 - 2*m*r + r**2))), 0, 0, M*m/(a*(a**2 - 2*m*r + r**2)*sqrt(1/(a**2 - 2*m*r + r**2)))]\n"
     ]
    }
   ],
   "source": [
    "eq4=M-simplify(Masa3)\n",
    "pm=solve(eq4,p3)[0]\n",
    "\n",
    "pmu=[pm*a*(m+r)/m,0,0,pm]\n",
    "print(pmu)"
   ]
  },
  {
   "cell_type": "code",
   "execution_count": 64,
   "metadata": {
    "scrolled": true
   },
   "outputs": [
    {
     "name": "stdout",
     "output_type": "stream",
     "text": [
      "[0, 0, -M*r*(a**2 - 2*m*r + r**2)/(a*(a**2 - 2*m*r + r**2)), 0]\n"
     ]
    }
   ],
   "source": [
    "smu=[0,0,spin2.subs(p3,pm),0]\n",
    "print(smu)"
   ]
  },
  {
   "cell_type": "markdown",
   "metadata": {},
   "source": [
    "Escribiendo el momentum y el spin en términos de la masa $M = p^{\\mu}u_{\\mu}$, es obtiene que:\n",
    "\\begin{align}\n",
    "p^{\\mu} &= \\left [ \\frac{M \\left(m + r\\right)}{\\left(a^{2} - 2 m r + r^{2}\\right) \\sqrt{\\frac{1}{a^{2} - 2 m r + r^{2}}}}, \\quad 0, \\quad 0, \\quad \\frac{M m}{a \\left(a^{2} - 2 m r + r^{2}\\right) \\sqrt{\\frac{1}{a^{2} - 2 m r + r^{2}}}}\\right ],\\\\\n",
    "S^{\\mu} &= \\left [ 0, \\quad 0, \\quad - \\frac{Mr}{a}, \\quad 0\\right ].\n",
    "\\end{align}\n",
    "\n",
    "También podemos escribir las soluciones en términos del spín, teniendo así que:"
   ]
  }
 ],
 "metadata": {
  "anaconda-cloud": {},
  "kernelspec": {
   "display_name": "Python 3",
   "language": "python",
   "name": "python3"
  },
  "language_info": {
   "codemirror_mode": {
    "name": "ipython",
    "version": 3
   },
   "file_extension": ".py",
   "mimetype": "text/x-python",
   "name": "python",
   "nbconvert_exporter": "python",
   "pygments_lexer": "ipython3",
   "version": "3.7.1"
  }
 },
 "nbformat": 4,
 "nbformat_minor": 2
}
